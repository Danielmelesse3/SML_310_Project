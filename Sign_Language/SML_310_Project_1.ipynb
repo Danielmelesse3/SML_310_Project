{
  "nbformat": 4,
  "nbformat_minor": 0,
  "metadata": {
    "accelerator": "GPU",
    "colab": {
      "name": "SML 310 Project_1.ipynb",
      "provenance": [],
      "collapsed_sections": []
    },
    "kernelspec": {
      "display_name": "Python 3",
      "name": "python3"
    },
    "language_info": {
      "name": "python"
    }
  },
  "cells": [
    {
      "cell_type": "markdown",
      "source": [
        "### SML 310: project\n",
        "\n",
        "This is the code for dataset I"
      ],
      "metadata": {
        "id": "LlSs7b_9uIQV"
      }
    },
    {
      "cell_type": "markdown",
      "source": [
        "#### Import library\n"
      ],
      "metadata": {
        "id": "AOIjEVynFk3p"
      }
    },
    {
      "cell_type": "code",
      "metadata": {
        "id": "pbhz6sO-Br3P"
      },
      "source": [
        "import math\n",
        "import numpy as np\n",
        "import matplotlib.pyplot as plt\n",
        "from matplotlib.pyplot import imread\n",
        "import scipy\n",
        "import pandas as pd\n",
        "import tensorflow as tf\n",
        "import tensorflow.keras.layers as tfl\n",
        "from tensorflow.python.framework import ops\n",
        "import tensorflow as tf\n",
        "from tensorflow import keras\n",
        "from tensorflow.keras import layers\n",
        "from tensorflow.keras.preprocessing import image_dataset_from_directory\n",
        "from tensorflow.keras.layers.experimental.preprocessing import RandomFlip, RandomRotation\n",
        "import seaborn as sns\n",
        "import os\n",
        "%matplotlib inline\n",
        "np.random.seed(1)"
      ],
      "execution_count": 1,
      "outputs": []
    },
    {
      "cell_type": "markdown",
      "source": [
        "#### Set up a working directory"
      ],
      "metadata": {
        "id": "ZVxrp7fLzt73"
      }
    },
    {
      "cell_type": "code",
      "metadata": {
        "colab": {
          "base_uri": "https://localhost:8080/"
        },
        "id": "-Ba2UoecBz8o",
        "outputId": "dac1e21b-6705-46da-bacf-5ed6b640574c"
      },
      "source": [
        "print(os.getcwd())\n",
        "\n",
        "from google.colab import drive \n",
        "drive.mount('/content/drive')\n",
        "%cd /content/drive/My\\ Drive/\n",
        "!pwd\n"
      ],
      "execution_count": 2,
      "outputs": [
        {
          "output_type": "stream",
          "name": "stdout",
          "text": [
            "/content\n",
            "Mounted at /content/drive\n",
            "/content/drive/My Drive\n",
            "/content/drive/My Drive\n"
          ]
        }
      ]
    },
    {
      "cell_type": "markdown",
      "source": [
        "### Check and connect to a GPU"
      ],
      "metadata": {
        "id": "JJY3gR26uV4O"
      }
    },
    {
      "cell_type": "code",
      "metadata": {
        "colab": {
          "base_uri": "https://localhost:8080/"
        },
        "id": "tj6CQObRHLDp",
        "outputId": "bfa9f882-ac2f-411f-fb22-07aac96fe659"
      },
      "source": [
        "%tensorflow_version 2.x\n",
        "\n",
        "import tensorflow as tf\n",
        "print(tf.__version__)\n",
        "print(tf.test.gpu_device_name())\n",
        "print(\"Num GPUs Available: \", len(tf.config.experimental.list_physical_devices('GPU')))"
      ],
      "execution_count": 4,
      "outputs": [
        {
          "output_type": "stream",
          "name": "stdout",
          "text": [
            "2.8.0\n",
            "/device:GPU:0\n",
            "Num GPUs Available:  1\n"
          ]
        }
      ]
    },
    {
      "cell_type": "markdown",
      "metadata": {
        "id": "hOMkhVdeHL3C"
      },
      "source": [
        "## Load the data"
      ]
    },
    {
      "cell_type": "code",
      "metadata": {
        "id": "C-qmsh0GFGuy"
      },
      "source": [
        "train = pd.read_csv('/content/drive/My Drive/Sign_Language/Dataset/sign_mnist_train.csv')\n",
        "test = pd.read_csv('/content/drive/My Drive/Sign_Language/Dataset/sign_mnist_test.csv')\n"
      ],
      "execution_count": 5,
      "outputs": []
    },
    {
      "cell_type": "markdown",
      "source": [
        "## EDA"
      ],
      "metadata": {
        "id": "kotfEEVN0Azv"
      }
    },
    {
      "cell_type": "code",
      "source": [
        "#Print the shape of the train and test to see the size\n",
        "print(train.shape)\n",
        "print(test.shape)"
      ],
      "metadata": {
        "colab": {
          "base_uri": "https://localhost:8080/"
        },
        "id": "Oy7e89E20jtY",
        "outputId": "2e01323b-89ad-4ddd-b64c-07ce14ab6548"
      },
      "execution_count": 6,
      "outputs": [
        {
          "output_type": "stream",
          "name": "stdout",
          "text": [
            "(27455, 785)\n",
            "(7172, 785)\n"
          ]
        }
      ]
    },
    {
      "cell_type": "markdown",
      "source": [
        "- Now,let's print the first 5 rows of the train and test data to check what the data looks like"
      ],
      "metadata": {
        "id": "hfCo49d10036"
      }
    },
    {
      "cell_type": "code",
      "source": [
        "# print the first 5 rows of the train and test data to check what the data looks like\n",
        "train.head()"
      ],
      "metadata": {
        "colab": {
          "base_uri": "https://localhost:8080/",
          "height": 299
        },
        "id": "r7CK-beP0AWi",
        "outputId": "ace9a0e7-794c-415d-f451-4d4652c01e37"
      },
      "execution_count": 7,
      "outputs": [
        {
          "output_type": "execute_result",
          "data": {
            "text/plain": [
              "   label  pixel1  pixel2  pixel3  pixel4  pixel5  pixel6  pixel7  pixel8  \\\n",
              "0      3     107     118     127     134     139     143     146     150   \n",
              "1      6     155     157     156     156     156     157     156     158   \n",
              "2      2     187     188     188     187     187     186     187     188   \n",
              "3      2     211     211     212     212     211     210     211     210   \n",
              "4     13     164     167     170     172     176     179     180     184   \n",
              "\n",
              "   pixel9  ...  pixel775  pixel776  pixel777  pixel778  pixel779  pixel780  \\\n",
              "0     153  ...       207       207       207       207       206       206   \n",
              "1     158  ...        69       149       128        87        94       163   \n",
              "2     187  ...       202       201       200       199       198       199   \n",
              "3     210  ...       235       234       233       231       230       226   \n",
              "4     185  ...        92       105       105       108       133       163   \n",
              "\n",
              "   pixel781  pixel782  pixel783  pixel784  \n",
              "0       206       204       203       202  \n",
              "1       175       103       135       149  \n",
              "2       198       195       194       195  \n",
              "3       225       222       229       163  \n",
              "4       157       163       164       179  \n",
              "\n",
              "[5 rows x 785 columns]"
            ],
            "text/html": [
              "\n",
              "  <div id=\"df-060b92bc-5b2f-4c93-8d73-25fb88d56d7c\">\n",
              "    <div class=\"colab-df-container\">\n",
              "      <div>\n",
              "<style scoped>\n",
              "    .dataframe tbody tr th:only-of-type {\n",
              "        vertical-align: middle;\n",
              "    }\n",
              "\n",
              "    .dataframe tbody tr th {\n",
              "        vertical-align: top;\n",
              "    }\n",
              "\n",
              "    .dataframe thead th {\n",
              "        text-align: right;\n",
              "    }\n",
              "</style>\n",
              "<table border=\"1\" class=\"dataframe\">\n",
              "  <thead>\n",
              "    <tr style=\"text-align: right;\">\n",
              "      <th></th>\n",
              "      <th>label</th>\n",
              "      <th>pixel1</th>\n",
              "      <th>pixel2</th>\n",
              "      <th>pixel3</th>\n",
              "      <th>pixel4</th>\n",
              "      <th>pixel5</th>\n",
              "      <th>pixel6</th>\n",
              "      <th>pixel7</th>\n",
              "      <th>pixel8</th>\n",
              "      <th>pixel9</th>\n",
              "      <th>...</th>\n",
              "      <th>pixel775</th>\n",
              "      <th>pixel776</th>\n",
              "      <th>pixel777</th>\n",
              "      <th>pixel778</th>\n",
              "      <th>pixel779</th>\n",
              "      <th>pixel780</th>\n",
              "      <th>pixel781</th>\n",
              "      <th>pixel782</th>\n",
              "      <th>pixel783</th>\n",
              "      <th>pixel784</th>\n",
              "    </tr>\n",
              "  </thead>\n",
              "  <tbody>\n",
              "    <tr>\n",
              "      <th>0</th>\n",
              "      <td>3</td>\n",
              "      <td>107</td>\n",
              "      <td>118</td>\n",
              "      <td>127</td>\n",
              "      <td>134</td>\n",
              "      <td>139</td>\n",
              "      <td>143</td>\n",
              "      <td>146</td>\n",
              "      <td>150</td>\n",
              "      <td>153</td>\n",
              "      <td>...</td>\n",
              "      <td>207</td>\n",
              "      <td>207</td>\n",
              "      <td>207</td>\n",
              "      <td>207</td>\n",
              "      <td>206</td>\n",
              "      <td>206</td>\n",
              "      <td>206</td>\n",
              "      <td>204</td>\n",
              "      <td>203</td>\n",
              "      <td>202</td>\n",
              "    </tr>\n",
              "    <tr>\n",
              "      <th>1</th>\n",
              "      <td>6</td>\n",
              "      <td>155</td>\n",
              "      <td>157</td>\n",
              "      <td>156</td>\n",
              "      <td>156</td>\n",
              "      <td>156</td>\n",
              "      <td>157</td>\n",
              "      <td>156</td>\n",
              "      <td>158</td>\n",
              "      <td>158</td>\n",
              "      <td>...</td>\n",
              "      <td>69</td>\n",
              "      <td>149</td>\n",
              "      <td>128</td>\n",
              "      <td>87</td>\n",
              "      <td>94</td>\n",
              "      <td>163</td>\n",
              "      <td>175</td>\n",
              "      <td>103</td>\n",
              "      <td>135</td>\n",
              "      <td>149</td>\n",
              "    </tr>\n",
              "    <tr>\n",
              "      <th>2</th>\n",
              "      <td>2</td>\n",
              "      <td>187</td>\n",
              "      <td>188</td>\n",
              "      <td>188</td>\n",
              "      <td>187</td>\n",
              "      <td>187</td>\n",
              "      <td>186</td>\n",
              "      <td>187</td>\n",
              "      <td>188</td>\n",
              "      <td>187</td>\n",
              "      <td>...</td>\n",
              "      <td>202</td>\n",
              "      <td>201</td>\n",
              "      <td>200</td>\n",
              "      <td>199</td>\n",
              "      <td>198</td>\n",
              "      <td>199</td>\n",
              "      <td>198</td>\n",
              "      <td>195</td>\n",
              "      <td>194</td>\n",
              "      <td>195</td>\n",
              "    </tr>\n",
              "    <tr>\n",
              "      <th>3</th>\n",
              "      <td>2</td>\n",
              "      <td>211</td>\n",
              "      <td>211</td>\n",
              "      <td>212</td>\n",
              "      <td>212</td>\n",
              "      <td>211</td>\n",
              "      <td>210</td>\n",
              "      <td>211</td>\n",
              "      <td>210</td>\n",
              "      <td>210</td>\n",
              "      <td>...</td>\n",
              "      <td>235</td>\n",
              "      <td>234</td>\n",
              "      <td>233</td>\n",
              "      <td>231</td>\n",
              "      <td>230</td>\n",
              "      <td>226</td>\n",
              "      <td>225</td>\n",
              "      <td>222</td>\n",
              "      <td>229</td>\n",
              "      <td>163</td>\n",
              "    </tr>\n",
              "    <tr>\n",
              "      <th>4</th>\n",
              "      <td>13</td>\n",
              "      <td>164</td>\n",
              "      <td>167</td>\n",
              "      <td>170</td>\n",
              "      <td>172</td>\n",
              "      <td>176</td>\n",
              "      <td>179</td>\n",
              "      <td>180</td>\n",
              "      <td>184</td>\n",
              "      <td>185</td>\n",
              "      <td>...</td>\n",
              "      <td>92</td>\n",
              "      <td>105</td>\n",
              "      <td>105</td>\n",
              "      <td>108</td>\n",
              "      <td>133</td>\n",
              "      <td>163</td>\n",
              "      <td>157</td>\n",
              "      <td>163</td>\n",
              "      <td>164</td>\n",
              "      <td>179</td>\n",
              "    </tr>\n",
              "  </tbody>\n",
              "</table>\n",
              "<p>5 rows × 785 columns</p>\n",
              "</div>\n",
              "      <button class=\"colab-df-convert\" onclick=\"convertToInteractive('df-060b92bc-5b2f-4c93-8d73-25fb88d56d7c')\"\n",
              "              title=\"Convert this dataframe to an interactive table.\"\n",
              "              style=\"display:none;\">\n",
              "        \n",
              "  <svg xmlns=\"http://www.w3.org/2000/svg\" height=\"24px\"viewBox=\"0 0 24 24\"\n",
              "       width=\"24px\">\n",
              "    <path d=\"M0 0h24v24H0V0z\" fill=\"none\"/>\n",
              "    <path d=\"M18.56 5.44l.94 2.06.94-2.06 2.06-.94-2.06-.94-.94-2.06-.94 2.06-2.06.94zm-11 1L8.5 8.5l.94-2.06 2.06-.94-2.06-.94L8.5 2.5l-.94 2.06-2.06.94zm10 10l.94 2.06.94-2.06 2.06-.94-2.06-.94-.94-2.06-.94 2.06-2.06.94z\"/><path d=\"M17.41 7.96l-1.37-1.37c-.4-.4-.92-.59-1.43-.59-.52 0-1.04.2-1.43.59L10.3 9.45l-7.72 7.72c-.78.78-.78 2.05 0 2.83L4 21.41c.39.39.9.59 1.41.59.51 0 1.02-.2 1.41-.59l7.78-7.78 2.81-2.81c.8-.78.8-2.07 0-2.86zM5.41 20L4 18.59l7.72-7.72 1.47 1.35L5.41 20z\"/>\n",
              "  </svg>\n",
              "      </button>\n",
              "      \n",
              "  <style>\n",
              "    .colab-df-container {\n",
              "      display:flex;\n",
              "      flex-wrap:wrap;\n",
              "      gap: 12px;\n",
              "    }\n",
              "\n",
              "    .colab-df-convert {\n",
              "      background-color: #E8F0FE;\n",
              "      border: none;\n",
              "      border-radius: 50%;\n",
              "      cursor: pointer;\n",
              "      display: none;\n",
              "      fill: #1967D2;\n",
              "      height: 32px;\n",
              "      padding: 0 0 0 0;\n",
              "      width: 32px;\n",
              "    }\n",
              "\n",
              "    .colab-df-convert:hover {\n",
              "      background-color: #E2EBFA;\n",
              "      box-shadow: 0px 1px 2px rgba(60, 64, 67, 0.3), 0px 1px 3px 1px rgba(60, 64, 67, 0.15);\n",
              "      fill: #174EA6;\n",
              "    }\n",
              "\n",
              "    [theme=dark] .colab-df-convert {\n",
              "      background-color: #3B4455;\n",
              "      fill: #D2E3FC;\n",
              "    }\n",
              "\n",
              "    [theme=dark] .colab-df-convert:hover {\n",
              "      background-color: #434B5C;\n",
              "      box-shadow: 0px 1px 3px 1px rgba(0, 0, 0, 0.15);\n",
              "      filter: drop-shadow(0px 1px 2px rgba(0, 0, 0, 0.3));\n",
              "      fill: #FFFFFF;\n",
              "    }\n",
              "  </style>\n",
              "\n",
              "      <script>\n",
              "        const buttonEl =\n",
              "          document.querySelector('#df-060b92bc-5b2f-4c93-8d73-25fb88d56d7c button.colab-df-convert');\n",
              "        buttonEl.style.display =\n",
              "          google.colab.kernel.accessAllowed ? 'block' : 'none';\n",
              "\n",
              "        async function convertToInteractive(key) {\n",
              "          const element = document.querySelector('#df-060b92bc-5b2f-4c93-8d73-25fb88d56d7c');\n",
              "          const dataTable =\n",
              "            await google.colab.kernel.invokeFunction('convertToInteractive',\n",
              "                                                     [key], {});\n",
              "          if (!dataTable) return;\n",
              "\n",
              "          const docLinkHtml = 'Like what you see? Visit the ' +\n",
              "            '<a target=\"_blank\" href=https://colab.research.google.com/notebooks/data_table.ipynb>data table notebook</a>'\n",
              "            + ' to learn more about interactive tables.';\n",
              "          element.innerHTML = '';\n",
              "          dataTable['output_type'] = 'display_data';\n",
              "          await google.colab.output.renderOutput(dataTable, element);\n",
              "          const docLink = document.createElement('div');\n",
              "          docLink.innerHTML = docLinkHtml;\n",
              "          element.appendChild(docLink);\n",
              "        }\n",
              "      </script>\n",
              "    </div>\n",
              "  </div>\n",
              "  "
            ]
          },
          "metadata": {},
          "execution_count": 7
        }
      ]
    },
    {
      "cell_type": "code",
      "source": [
        "test.head()"
      ],
      "metadata": {
        "colab": {
          "base_uri": "https://localhost:8080/",
          "height": 299
        },
        "id": "UtqO-nwt0x5M",
        "outputId": "5cdf9a19-5d28-4c8b-aa71-1c9e96fd5d97"
      },
      "execution_count": 8,
      "outputs": [
        {
          "output_type": "execute_result",
          "data": {
            "text/plain": [
              "   label  pixel1  pixel2  pixel3  pixel4  pixel5  pixel6  pixel7  pixel8  \\\n",
              "0      6     149     149     150     150     150     151     151     150   \n",
              "1      5     126     128     131     132     133     134     135     135   \n",
              "2     10      85      88      92      96     105     123     135     143   \n",
              "3      0     203     205     207     206     207     209     210     209   \n",
              "4      3     188     191     193     195     199     201     202     203   \n",
              "\n",
              "   pixel9  ...  pixel775  pixel776  pixel777  pixel778  pixel779  pixel780  \\\n",
              "0     151  ...       138       148       127        89        82        96   \n",
              "1     136  ...        47       104       194       183       186       184   \n",
              "2     147  ...        68       166       242       227       230       227   \n",
              "3     210  ...       154       248       247       248       253       236   \n",
              "4     203  ...        26        40        64        48        29        46   \n",
              "\n",
              "   pixel781  pixel782  pixel783  pixel784  \n",
              "0       106       112       120       107  \n",
              "1       184       184       182       180  \n",
              "2       226       225       224       222  \n",
              "3       230       240       253       255  \n",
              "4        49        46        46        53  \n",
              "\n",
              "[5 rows x 785 columns]"
            ],
            "text/html": [
              "\n",
              "  <div id=\"df-d689a4d1-aa24-48e0-be72-2b6df705ea31\">\n",
              "    <div class=\"colab-df-container\">\n",
              "      <div>\n",
              "<style scoped>\n",
              "    .dataframe tbody tr th:only-of-type {\n",
              "        vertical-align: middle;\n",
              "    }\n",
              "\n",
              "    .dataframe tbody tr th {\n",
              "        vertical-align: top;\n",
              "    }\n",
              "\n",
              "    .dataframe thead th {\n",
              "        text-align: right;\n",
              "    }\n",
              "</style>\n",
              "<table border=\"1\" class=\"dataframe\">\n",
              "  <thead>\n",
              "    <tr style=\"text-align: right;\">\n",
              "      <th></th>\n",
              "      <th>label</th>\n",
              "      <th>pixel1</th>\n",
              "      <th>pixel2</th>\n",
              "      <th>pixel3</th>\n",
              "      <th>pixel4</th>\n",
              "      <th>pixel5</th>\n",
              "      <th>pixel6</th>\n",
              "      <th>pixel7</th>\n",
              "      <th>pixel8</th>\n",
              "      <th>pixel9</th>\n",
              "      <th>...</th>\n",
              "      <th>pixel775</th>\n",
              "      <th>pixel776</th>\n",
              "      <th>pixel777</th>\n",
              "      <th>pixel778</th>\n",
              "      <th>pixel779</th>\n",
              "      <th>pixel780</th>\n",
              "      <th>pixel781</th>\n",
              "      <th>pixel782</th>\n",
              "      <th>pixel783</th>\n",
              "      <th>pixel784</th>\n",
              "    </tr>\n",
              "  </thead>\n",
              "  <tbody>\n",
              "    <tr>\n",
              "      <th>0</th>\n",
              "      <td>6</td>\n",
              "      <td>149</td>\n",
              "      <td>149</td>\n",
              "      <td>150</td>\n",
              "      <td>150</td>\n",
              "      <td>150</td>\n",
              "      <td>151</td>\n",
              "      <td>151</td>\n",
              "      <td>150</td>\n",
              "      <td>151</td>\n",
              "      <td>...</td>\n",
              "      <td>138</td>\n",
              "      <td>148</td>\n",
              "      <td>127</td>\n",
              "      <td>89</td>\n",
              "      <td>82</td>\n",
              "      <td>96</td>\n",
              "      <td>106</td>\n",
              "      <td>112</td>\n",
              "      <td>120</td>\n",
              "      <td>107</td>\n",
              "    </tr>\n",
              "    <tr>\n",
              "      <th>1</th>\n",
              "      <td>5</td>\n",
              "      <td>126</td>\n",
              "      <td>128</td>\n",
              "      <td>131</td>\n",
              "      <td>132</td>\n",
              "      <td>133</td>\n",
              "      <td>134</td>\n",
              "      <td>135</td>\n",
              "      <td>135</td>\n",
              "      <td>136</td>\n",
              "      <td>...</td>\n",
              "      <td>47</td>\n",
              "      <td>104</td>\n",
              "      <td>194</td>\n",
              "      <td>183</td>\n",
              "      <td>186</td>\n",
              "      <td>184</td>\n",
              "      <td>184</td>\n",
              "      <td>184</td>\n",
              "      <td>182</td>\n",
              "      <td>180</td>\n",
              "    </tr>\n",
              "    <tr>\n",
              "      <th>2</th>\n",
              "      <td>10</td>\n",
              "      <td>85</td>\n",
              "      <td>88</td>\n",
              "      <td>92</td>\n",
              "      <td>96</td>\n",
              "      <td>105</td>\n",
              "      <td>123</td>\n",
              "      <td>135</td>\n",
              "      <td>143</td>\n",
              "      <td>147</td>\n",
              "      <td>...</td>\n",
              "      <td>68</td>\n",
              "      <td>166</td>\n",
              "      <td>242</td>\n",
              "      <td>227</td>\n",
              "      <td>230</td>\n",
              "      <td>227</td>\n",
              "      <td>226</td>\n",
              "      <td>225</td>\n",
              "      <td>224</td>\n",
              "      <td>222</td>\n",
              "    </tr>\n",
              "    <tr>\n",
              "      <th>3</th>\n",
              "      <td>0</td>\n",
              "      <td>203</td>\n",
              "      <td>205</td>\n",
              "      <td>207</td>\n",
              "      <td>206</td>\n",
              "      <td>207</td>\n",
              "      <td>209</td>\n",
              "      <td>210</td>\n",
              "      <td>209</td>\n",
              "      <td>210</td>\n",
              "      <td>...</td>\n",
              "      <td>154</td>\n",
              "      <td>248</td>\n",
              "      <td>247</td>\n",
              "      <td>248</td>\n",
              "      <td>253</td>\n",
              "      <td>236</td>\n",
              "      <td>230</td>\n",
              "      <td>240</td>\n",
              "      <td>253</td>\n",
              "      <td>255</td>\n",
              "    </tr>\n",
              "    <tr>\n",
              "      <th>4</th>\n",
              "      <td>3</td>\n",
              "      <td>188</td>\n",
              "      <td>191</td>\n",
              "      <td>193</td>\n",
              "      <td>195</td>\n",
              "      <td>199</td>\n",
              "      <td>201</td>\n",
              "      <td>202</td>\n",
              "      <td>203</td>\n",
              "      <td>203</td>\n",
              "      <td>...</td>\n",
              "      <td>26</td>\n",
              "      <td>40</td>\n",
              "      <td>64</td>\n",
              "      <td>48</td>\n",
              "      <td>29</td>\n",
              "      <td>46</td>\n",
              "      <td>49</td>\n",
              "      <td>46</td>\n",
              "      <td>46</td>\n",
              "      <td>53</td>\n",
              "    </tr>\n",
              "  </tbody>\n",
              "</table>\n",
              "<p>5 rows × 785 columns</p>\n",
              "</div>\n",
              "      <button class=\"colab-df-convert\" onclick=\"convertToInteractive('df-d689a4d1-aa24-48e0-be72-2b6df705ea31')\"\n",
              "              title=\"Convert this dataframe to an interactive table.\"\n",
              "              style=\"display:none;\">\n",
              "        \n",
              "  <svg xmlns=\"http://www.w3.org/2000/svg\" height=\"24px\"viewBox=\"0 0 24 24\"\n",
              "       width=\"24px\">\n",
              "    <path d=\"M0 0h24v24H0V0z\" fill=\"none\"/>\n",
              "    <path d=\"M18.56 5.44l.94 2.06.94-2.06 2.06-.94-2.06-.94-.94-2.06-.94 2.06-2.06.94zm-11 1L8.5 8.5l.94-2.06 2.06-.94-2.06-.94L8.5 2.5l-.94 2.06-2.06.94zm10 10l.94 2.06.94-2.06 2.06-.94-2.06-.94-.94-2.06-.94 2.06-2.06.94z\"/><path d=\"M17.41 7.96l-1.37-1.37c-.4-.4-.92-.59-1.43-.59-.52 0-1.04.2-1.43.59L10.3 9.45l-7.72 7.72c-.78.78-.78 2.05 0 2.83L4 21.41c.39.39.9.59 1.41.59.51 0 1.02-.2 1.41-.59l7.78-7.78 2.81-2.81c.8-.78.8-2.07 0-2.86zM5.41 20L4 18.59l7.72-7.72 1.47 1.35L5.41 20z\"/>\n",
              "  </svg>\n",
              "      </button>\n",
              "      \n",
              "  <style>\n",
              "    .colab-df-container {\n",
              "      display:flex;\n",
              "      flex-wrap:wrap;\n",
              "      gap: 12px;\n",
              "    }\n",
              "\n",
              "    .colab-df-convert {\n",
              "      background-color: #E8F0FE;\n",
              "      border: none;\n",
              "      border-radius: 50%;\n",
              "      cursor: pointer;\n",
              "      display: none;\n",
              "      fill: #1967D2;\n",
              "      height: 32px;\n",
              "      padding: 0 0 0 0;\n",
              "      width: 32px;\n",
              "    }\n",
              "\n",
              "    .colab-df-convert:hover {\n",
              "      background-color: #E2EBFA;\n",
              "      box-shadow: 0px 1px 2px rgba(60, 64, 67, 0.3), 0px 1px 3px 1px rgba(60, 64, 67, 0.15);\n",
              "      fill: #174EA6;\n",
              "    }\n",
              "\n",
              "    [theme=dark] .colab-df-convert {\n",
              "      background-color: #3B4455;\n",
              "      fill: #D2E3FC;\n",
              "    }\n",
              "\n",
              "    [theme=dark] .colab-df-convert:hover {\n",
              "      background-color: #434B5C;\n",
              "      box-shadow: 0px 1px 3px 1px rgba(0, 0, 0, 0.15);\n",
              "      filter: drop-shadow(0px 1px 2px rgba(0, 0, 0, 0.3));\n",
              "      fill: #FFFFFF;\n",
              "    }\n",
              "  </style>\n",
              "\n",
              "      <script>\n",
              "        const buttonEl =\n",
              "          document.querySelector('#df-d689a4d1-aa24-48e0-be72-2b6df705ea31 button.colab-df-convert');\n",
              "        buttonEl.style.display =\n",
              "          google.colab.kernel.accessAllowed ? 'block' : 'none';\n",
              "\n",
              "        async function convertToInteractive(key) {\n",
              "          const element = document.querySelector('#df-d689a4d1-aa24-48e0-be72-2b6df705ea31');\n",
              "          const dataTable =\n",
              "            await google.colab.kernel.invokeFunction('convertToInteractive',\n",
              "                                                     [key], {});\n",
              "          if (!dataTable) return;\n",
              "\n",
              "          const docLinkHtml = 'Like what you see? Visit the ' +\n",
              "            '<a target=\"_blank\" href=https://colab.research.google.com/notebooks/data_table.ipynb>data table notebook</a>'\n",
              "            + ' to learn more about interactive tables.';\n",
              "          element.innerHTML = '';\n",
              "          dataTable['output_type'] = 'display_data';\n",
              "          await google.colab.output.renderOutput(dataTable, element);\n",
              "          const docLink = document.createElement('div');\n",
              "          docLink.innerHTML = docLinkHtml;\n",
              "          element.appendChild(docLink);\n",
              "        }\n",
              "      </script>\n",
              "    </div>\n",
              "  </div>\n",
              "  "
            ]
          },
          "metadata": {},
          "execution_count": 8
        }
      ]
    },
    {
      "cell_type": "markdown",
      "source": [
        "- Now, let's change the label, as the data has J as a label. Thus, now we will only have 24 classes"
      ],
      "metadata": {
        "id": "vuaUeHq2Fwa_"
      }
    },
    {
      "cell_type": "code",
      "source": [
        "\n",
        "for i in range(train.shape[0]):\n",
        "   if train[\"label\"][i]>9:\n",
        "\n",
        "      train[\"label\"][i]= train[\"label\"][i]-1\n",
        "\n",
        "for i in range(test.shape[0]):\n",
        "   if test[\"label\"][i]>9:\n",
        "\n",
        "      test[\"label\"][i]= test[\"label\"][i]-1\n"
      ],
      "metadata": {
        "id": "ELzvuG5AFpV-"
      },
      "execution_count": 9,
      "outputs": []
    },
    {
      "cell_type": "markdown",
      "source": [
        "- Let's do the count plot to see the class distribution"
      ],
      "metadata": {
        "id": "uKGrvcs01HYe"
      }
    },
    {
      "cell_type": "code",
      "source": [
        "sns.countplot(train[\"label\"])\n",
        "plt.title(\"Frequency of each label\")\n",
        "plt.savefig(\"Class label 24 classes\")"
      ],
      "metadata": {
        "colab": {
          "base_uri": "https://localhost:8080/",
          "height": 350
        },
        "id": "_-59i7ydKQDA",
        "outputId": "3a903d10-e4ec-47ea-8247-86c074e48fed"
      },
      "execution_count": 10,
      "outputs": [
        {
          "output_type": "stream",
          "name": "stderr",
          "text": [
            "/usr/local/lib/python3.7/dist-packages/seaborn/_decorators.py:43: FutureWarning: Pass the following variable as a keyword arg: x. From version 0.12, the only valid positional argument will be `data`, and passing other arguments without an explicit keyword will result in an error or misinterpretation.\n",
            "  FutureWarning\n"
          ]
        },
        {
          "output_type": "display_data",
          "data": {
            "text/plain": [
              "<Figure size 432x288 with 1 Axes>"
            ],
            "image/png": "[encoded data removed]"
          },
          "metadata": {
            "needs_background": "light"
          }
        }
      ]
    },
    {
      "cell_type": "markdown",
      "source": [
        "- From the above, we can see the class distribution."
      ],
      "metadata": {
        "id": "XJPqpABf1Rn2"
      }
    },
    {
      "cell_type": "markdown",
      "metadata": {
        "id": "lihNkcZgFigB"
      },
      "source": [
        "- Now, let's Change the data into numpy array"
      ]
    },
    {
      "cell_type": "code",
      "metadata": {
        "id": "XSHPlJ5OFhNe",
        "colab": {
          "base_uri": "https://localhost:8080/"
        },
        "outputId": "d1e0dbcd-ce1e-4dfa-eaaf-28b1934032ce"
      },
      "source": [
        "# Create training and testing arrays\n",
        "train_set = np.array(train, dtype = 'float32')\n",
        "test_set = np.array(test, dtype='float32')\n",
        "\n",
        "\n",
        "#Specifying class labels for the 24 classes\n",
        "class_names = ['A', 'B', 'C', 'D', 'E', 'F', 'G', 'H', 'I','K', 'L', 'M', 'N', 'O', 'P', 'Q', 'R', 'S', 'T', 'U', 'V', 'W', 'X', 'Y' ]\n",
        "print(len(class_names))"
      ],
      "execution_count": 11,
      "outputs": [
        {
          "output_type": "stream",
          "name": "stdout",
          "text": [
            "24\n"
          ]
        }
      ]
    },
    {
      "cell_type": "markdown",
      "metadata": {
        "id": "9dnpzSCEFusn"
      },
      "source": [
        "#### Plot sample images from training\n",
        "\n",
        "- Now, let's plot sample images from the dataset to check the type of the image"
      ]
    },
    {
      "cell_type": "code",
      "metadata": {
        "colab": {
          "base_uri": "https://localhost:8080/",
          "height": 585
        },
        "id": "p9IVgqR8Fu3A",
        "outputId": "f48a8e58-4e37-4fdb-815c-991dfee714b6"
      },
      "source": [
        "\n",
        "import random\n",
        "W = 6\n",
        "L = 5\n",
        "fig, axes = plt.subplots(L, W, figsize = (10,10))\n",
        "axes = axes.ravel() \n",
        "n_train = len(train_set) \n",
        "for i in np.arange(0, W * L):\n",
        "    # Let's select a random number\n",
        "    index = np.random.randint(0, n_train)\n",
        "    axes[i].imshow( train_set[index,1:].reshape((28,28)), cmap='gray')\n",
        "    label_index = int(train_set[index,0])\n",
        "    if label_index<=23:\n",
        "        axes[i].set_title(class_names[label_index], fontsize = 8)\n",
        "        axes[i].axis('off')\n",
        "plt.subplots_adjust(hspace=0.4)\n",
        "plt.savefig(\"Sample training.jpeg\")"
      ],
      "execution_count": 12,
      "outputs": [
        {
          "output_type": "display_data",
          "data": {
            "text/plain": [
              "<Figure size 720x720 with 30 Axes>"
            ],
            "image/png": "[encoded data removed]"
          },
          "metadata": {
            "needs_background": "light"
          }
        }
      ]
    },
    {
      "cell_type": "markdown",
      "source": [
        "- The above figure shows sample images from the training set. We can see that the images are in grayscale and their sizes are small."
      ],
      "metadata": {
        "id": "BbnzDOji2Euh"
      }
    },
    {
      "cell_type": "markdown",
      "metadata": {
        "id": "FKh6Nk8OF5IY"
      },
      "source": [
        "#### Normalize the data\n",
        "\n",
        "- Here we divide by 255 to make the pixel values between 0 and 1."
      ]
    },
    {
      "cell_type": "code",
      "metadata": {
        "colab": {
          "base_uri": "https://localhost:8080/"
        },
        "id": "bE7eUoVJF5X5",
        "outputId": "e01f02dc-ba26-41f6-aa32-1a26dc92803b"
      },
      "source": [
        "# Prepare the training and testing dataset \n",
        "X_train = train_set[:, 1:] / 255\n",
        "y_train = train_set[:, 0]\n",
        "\n",
        "X_test = test_set[:, 1:] / 255\n",
        "y_test = test_set[:,0]\n",
        "\n",
        "print(X_train.shape)\n",
        "print(y_train.shape)"
      ],
      "execution_count": 57,
      "outputs": [
        {
          "output_type": "stream",
          "name": "stdout",
          "text": [
            "(27455, 784)\n",
            "(27455,)\n"
          ]
        }
      ]
    },
    {
      "cell_type": "markdown",
      "metadata": {
        "id": "IoybktOEGE3F"
      },
      "source": [
        "#### Cross validation"
      ]
    },
    {
      "cell_type": "markdown",
      "source": [
        "- Here we further split the train set into train and validation. We need validation as we are developing a deep learning model, we use it to monitor the performance during hyperparameter tunning."
      ],
      "metadata": {
        "id": "a9a5DIHr2eJx"
      }
    },
    {
      "cell_type": "code",
      "metadata": {
        "colab": {
          "base_uri": "https://localhost:8080/"
        },
        "id": "5FiwaBWLGFB1",
        "outputId": "d27b0356-3bdd-4070-9745-70a5f02fb3c0"
      },
      "source": [
        "#Split the training and test sets\n",
        "from sklearn.model_selection import train_test_split\n",
        "X_train, X_validate, y_train, y_validate = train_test_split(X_train, y_train, test_size = 0.2, random_state = 12345)\n",
        "\n",
        "\n",
        "print(X_train.shape)\n",
        "print(y_train.shape)\n",
        "print(X_validate.shape)\n",
        "print(y_validate.shape)"
      ],
      "execution_count": 58,
      "outputs": [
        {
          "output_type": "stream",
          "name": "stdout",
          "text": [
            "(21964, 784)\n",
            "(21964,)\n",
            "(5491, 784)\n",
            "(5491,)\n"
          ]
        }
      ]
    },
    {
      "cell_type": "markdown",
      "source": [
        "- Here we are using again 20% of the training data as a validation data."
      ],
      "metadata": {
        "id": "IQUlcGVi29aW"
      }
    },
    {
      "cell_type": "markdown",
      "metadata": {
        "id": "uUnplWaNGMbx"
      },
      "source": [
        "- Now, let's unpack the data"
      ]
    },
    {
      "cell_type": "code",
      "metadata": {
        "colab": {
          "base_uri": "https://localhost:8080/"
        },
        "id": "xg1Hzxs_GMlM",
        "outputId": "f68fe393-fdde-4633-9f46-52f7f6ffbae3"
      },
      "source": [
        "X_train = X_train.reshape(X_train.shape[0], *(28, 28, 1))\n",
        "X_test = X_test.reshape(X_test.shape[0], *(28, 28, 1))\n",
        "X_validate = X_validate.reshape(X_validate.shape[0], *(28, 28, 1))\n",
        "\n",
        "print(X_train.shape)\n",
        "print(y_train.shape)\n",
        "print(X_validate.shape)"
      ],
      "execution_count": 59,
      "outputs": [
        {
          "output_type": "stream",
          "name": "stdout",
          "text": [
            "(21964, 28, 28, 1)\n",
            "(21964,)\n",
            "(5491, 28, 28, 1)\n"
          ]
        }
      ]
    },
    {
      "cell_type": "markdown",
      "source": [
        "- Now, the data is ready to train the conolutional neural network."
      ],
      "metadata": {
        "id": "C5x50bjv3I8q"
      }
    },
    {
      "cell_type": "markdown",
      "metadata": {
        "id": "iaytEYEHGUAX"
      },
      "source": [
        "## Convolutional Neural Network"
      ]
    },
    {
      "cell_type": "code",
      "metadata": {
        "id": "ZehiZpiqGUK3"
      },
      "source": [
        "import tensorflow as tf\n",
        "import tensorflow.keras.layers as tfl\n",
        "from tensorflow.python.framework import ops\n",
        "import tensorflow as tf\n",
        "from tensorflow import keras\n",
        "from tensorflow.keras import layers\n",
        "import tensorflow as tf\n",
        "import numpy as np\n",
        "import scipy.misc\n",
        "from tensorflow.keras.applications.resnet_v2 import ResNet50V2\n",
        "from tensorflow.keras.preprocessing import image\n",
        "from tensorflow.keras.applications.resnet_v2 import preprocess_input, decode_predictions\n",
        "from tensorflow.keras import layers\n",
        "from tensorflow.keras.layers import Input, Add, Dropout, Dense, Activation, ZeroPadding2D, BatchNormalization, Flatten, Conv2D, AveragePooling2D, MaxPooling2D, GlobalMaxPooling2D\n",
        "from tensorflow.keras.models import Model, load_model\n",
        "from tensorflow.keras.initializers import random_uniform, glorot_uniform, constant, identity\n",
        "from tensorflow.python.framework.ops import EagerTensor\n",
        "from matplotlib.pyplot import imshow\n",
        "from tensorflow.keras.layers.experimental.preprocessing import RandomFlip, RandomRotation\n",
        "from keras.applications.inception_v3 import InceptionV3\n",
        "from tensorflow.keras.applications.resnet50 import ResNet50\n",
        "from tensorflow.keras.applications.efficientnet import EfficientNetB7\n",
        "from keras.applications.resnet_v2 import ResNet152V2\n",
        "\n"
      ],
      "execution_count": 65,
      "outputs": []
    },
    {
      "cell_type": "markdown",
      "metadata": {
        "id": "GrMny6ug14fd"
      },
      "source": [
        "#### Data Augumentation"
      ]
    },
    {
      "cell_type": "code",
      "source": [
        "#adapted from https://www.tensorflow.org/tutorials/images/data_augmentation\n",
        "def random_invert_img(x, p=0.5):\n",
        "    if  tf.random.uniform([]) < p:\n",
        "        x = (255-x)\n",
        "    else:\n",
        "        x\n",
        "    return x\n",
        "\n",
        "\n",
        "def random_invert(factor=0.5):\n",
        "    return layers.Lambda(lambda x: random_invert_img(x, factor))\n",
        "\n",
        "random_invert = random_invert()\n",
        "\n",
        "\n",
        "class RandomInvert(layers.Layer):\n",
        "    def __init__(self, factor=0.5, **kwargs):\n",
        "        super().__init__(**kwargs)\n",
        "        self.factor = factor\n",
        "\n",
        "    def call(self, x):\n",
        "        return random_invert_img(x)"
      ],
      "metadata": {
        "id": "0pigVfg33lWs"
      },
      "execution_count": 17,
      "outputs": []
    },
    {
      "cell_type": "code",
      "source": [
        "def random_change_bright_img(x):\n",
        "    return tf.image.random_brightness(x, 0.2)\n",
        "\n",
        "def random_change_brightness():\n",
        "    return layers.Lambda(lambda x: random_change_bright_img(x))\n",
        "\n",
        "random_change_brightness = random_change_brightness()\n",
        "\n",
        "\n",
        "class RandomBrightness(layers.Layer):\n",
        "    def __init__(self, **kwargs):\n",
        "        super().__init__(**kwargs)\n",
        "\n",
        "    def call(self, x):\n",
        "        return random_change_brightness (x)"
      ],
      "metadata": {
        "id": "201MmeYA3mK8"
      },
      "execution_count": 18,
      "outputs": []
    },
    {
      "cell_type": "code",
      "source": [
        "def data_augmenter():\n",
        "    '''\n",
        "    Sequential model composed of 2 layers\n",
        "    '''\n",
        "    data_augmentation = tf.keras.Sequential()\n",
        "    data_augmentation.add(RandomFlip(\"horizontal\"))\n",
        "    data_augmentation.add(RandomRotation(0.2)) \n",
        "    return data_augmentation"
      ],
      "metadata": {
        "id": "XRzd9Ome3vMF"
      },
      "execution_count": 19,
      "outputs": []
    },
    {
      "cell_type": "code",
      "source": [
        "def data_augmenter2():\n",
        "    '''\n",
        "    Sequential model composed of 2 layers\n",
        "    '''\n",
        "    data_augmentation = tf.keras.Sequential()\n",
        "    data_augmentation.add(RandomFlip(\"horizontal_and_vertical\"))\n",
        "    data_augmentation.add(RandomRotation(0.2)) \n",
        "    data_augmentation.add(RandomInvert())\n",
        "    return data_augmentation"
      ],
      "metadata": {
        "id": "yWzxUfsF3yy5"
      },
      "execution_count": 20,
      "outputs": []
    },
    {
      "cell_type": "code",
      "source": [
        "def data_augmenter3():\n",
        "    '''\n",
        "    Sequential model composed of 2 layers\n",
        "    '''\n",
        "    data_augmentation = tf.keras.Sequential()\n",
        "    data_augmentation.add(RandomFlip(\"horizontal\"))\n",
        "    data_augmentation.add(RandomRotation(0.2)) \n",
        "    data_augmentation.add(RandomBrightness())\n",
        "    return data_augmentation"
      ],
      "metadata": {
        "id": "U-W13Yf84KcO"
      },
      "execution_count": 21,
      "outputs": []
    },
    {
      "cell_type": "code",
      "source": [
        "def data_augmenter4():\n",
        "    '''\n",
        "    Sequential model composed of 2 layers\n",
        "    '''\n",
        "    data_augmentation = tf.keras.Sequential()\n",
        "    data_augmentation.add(RandomFlip(\"horizontal\"))\n",
        "    data_augmentation.add(RandomRotation(0.2)) \n",
        "    data_augmentation.add(RandomBrightness())\n",
        "    data_augmentation.add(RandomContrast(0.2))\n",
        "    return data_augmentation"
      ],
      "metadata": {
        "id": "Zgbs2IBy32PM"
      },
      "execution_count": 22,
      "outputs": []
    },
    {
      "cell_type": "code",
      "source": [
        "def data_augmenter5():\n",
        "    '''\n",
        "    Sequential model composed of 2 layers\n",
        "    '''\n",
        "    data_augmentation = tf.keras.Sequential()\n",
        "    data_augmentation.add(RandomFlip(\"horizontal\"))\n",
        "    data_augmentation.add(RandomRotation(0.2)) \n",
        "    data_augmentation.add(RandomBrightness())\n",
        "    data_augmentation.add(RandomCrop(20,20))\n",
        "    data_augmentation.add(Resizing(28, 28, interpolation='bilinear', crop_to_aspect_ratio=True)) #resize to 28 x 28\n",
        "\n",
        "    return data_augmentation"
      ],
      "metadata": {
        "id": "Lx_bnmX84N76"
      },
      "execution_count": 23,
      "outputs": []
    },
    {
      "cell_type": "code",
      "source": [
        "def data_augmenter6():\n",
        "    '''\n",
        "    Sequential model composed of 2 layers\n",
        "    '''\n",
        "    data_augmentation = tf.keras.Sequential()\n",
        "    data_augmentation.add(RandomFlip(\"horizontal\"))\n",
        "    data_augmentation.add(RandomRotation(0.4)) \n",
        "    data_augmentation.add(RandomBrightness())\n",
        "    return data_augmentation"
      ],
      "metadata": {
        "id": "P2F-bRXH4WKx"
      },
      "execution_count": 24,
      "outputs": []
    },
    {
      "cell_type": "markdown",
      "source": [
        "- Now, let's build the building block of the Sign_LanguageNet."
      ],
      "metadata": {
        "id": "m57KxvZL4sVh"
      }
    },
    {
      "cell_type": "code",
      "metadata": {
        "id": "Z5jrSZmIGbm6"
      },
      "source": [
        ""
      ],
      "execution_count": 29,
      "outputs": []
    },
    {
      "cell_type": "code",
      "metadata": {
        "id": "xFBrUw7xIHjw"
      },
      "source": [
        "def Sign_LanguageNet_identity_block(X, kernel_size, train_filters, training=True, initializer=\"HeNormal\"):\n",
        "    filter_1, filter_2, filter_3 = train_filters # these are filters\n",
        "    residual = X\n",
        "    #here let's define the conv blocks\n",
        "    X = Conv2D(filters = filter_1, kernel_size = 1, strides = (1,1), padding = 'valid', kernel_initializer = initializer)(X)\n",
        "    X = BatchNormalization(axis = 3)(X, training = training) \n",
        "    X = Activation('relu')(X)\n",
        "    # this is the second CONV block\n",
        "    X = Conv2D(filters = filter_2, kernel_size = kernel_size,strides = (1, 1),padding='same',kernel_initializer = initializer)(X)\n",
        "    X = BatchNormalization(axis = 3)(X, training=training)\n",
        "    X = Activation('relu')(X)\n",
        "    # this is the third CONV block\n",
        "    X = Conv2D(filters = filter_3, kernel_size = 1, strides = (1, 1), padding='valid', kernel_initializer = initializer)(X)\n",
        "    X = BatchNormalization(axis = 3)(X, training=training)\n",
        "    # let's add the residue to X   \n",
        "    X = Add()([residual,X])\n",
        "    # finally let's pass it to an activation fucntion- Relu\n",
        "    X = Activation('relu')(X)\n",
        "    return X\n",
        "def Sign_LanguageNet_convolutional_block(X, kernel, train_filters, stride = 2, training=True, initializer=\"HeNormal\"):\n",
        "    filter_1, filter_2, filter_3 = train_filters # these are filters\n",
        "    #temporary/shortcut\n",
        "    X_temp = X\n",
        "    # First component\n",
        "    X = Conv2D(filters = filter_1, kernel_size = 1, strides = (stride, stride), padding='valid', kernel_initializer = initializer)(X)\n",
        "    X = BatchNormalization(axis = 3)(X, training=training)\n",
        "    X = Activation('relu')(X)\n",
        "    # this is the second CONV block\n",
        "    X = Conv2D(filters = filter_2, kernel_size = kernel,strides = (1, 1),padding='same',kernel_initializer = initializer)(X)\n",
        "    X = BatchNormalization(axis = 3)(X, training=training)\n",
        "    X = Activation('relu')(X)\n",
        "    # this is the third CONV block\n",
        "    X = Conv2D(filters = filter_3, kernel_size = 1, strides = (1, 1), padding='valid', kernel_initializer = initializer)(X)\n",
        "    X = BatchNormalization(axis = 3)(X, training=training)\n",
        "    #This is a skip path\n",
        "    X_temp = Conv2D(filters = filter_3, kernel_size = 1, strides = (stride, stride), padding='valid', kernel_initializer = initializer)(X_temp)\n",
        "    X_temp = BatchNormalization(axis = 3)(X_temp, training=training)\n",
        "    # let's add the residue to X_temp  \n",
        "    X = Add()([X, X_temp])\n",
        "    # finally let's pass it to an activation fucntion- Relu\n",
        "    X = Activation('relu')(X)\n",
        "    return X\n",
        "# Now, let's define the main model\n",
        "def Sign_LanguageNet(input_shape = (28, 28, 1), classes = 24):\n",
        "    input = Input(input_shape)\n",
        "    #This is for augumnetatation\n",
        "    #X=data_augmenter3()(input) \n",
        "    X = ZeroPadding2D((7,7))(input)   # Zero-Padding\n",
        "    X = Conv2D(64, (5, 5), strides = (2, 2), kernel_initializer = \"HeNormal\")(X)\n",
        "    X = BatchNormalization(axis = 3)(X)\n",
        "    X = Activation('relu')(X)\n",
        "    X = MaxPooling2D((2, 2), strides=(2, 2))(X)\n",
        "    X = Sign_LanguageNet_convolutional_block(X, 3,[64, 64, 256], stride = 1)\n",
        "    X = Sign_LanguageNet_identity_block(X, 3, [64, 64, 256])\n",
        "    X = Sign_LanguageNet_identity_block(X, 3, [64, 64, 256])\n",
        "    X = Sign_LanguageNet_identity_block(X, 3, [64, 64, 256])\n",
        "    X = Sign_LanguageNet_identity_block(X, 3, [64, 64, 256])\n",
        "    X = Sign_LanguageNet_convolutional_block(X, 3,[128,128,512], stride = 2)\n",
        "    X = Sign_LanguageNet_identity_block(X, 3,  [128,128,512])\n",
        "    X = Sign_LanguageNet_identity_block(X, 3,  [128,128,512])\n",
        "    X = Sign_LanguageNet_identity_block(X, 3,  [128,128,512])\n",
        "    X = Sign_LanguageNet_identity_block(X, 3,  [128,128,512])\n",
        "    X = Sign_LanguageNet_convolutional_block(X, 3,[256, 256, 1024], stride = 2)\n",
        "    X = Sign_LanguageNet_identity_block(X, 3, [256, 256, 1024])\n",
        "    X = Sign_LanguageNet_identity_block(X, 3, [256, 256, 1024])\n",
        "    X = Sign_LanguageNet_identity_block(X, 3, [256, 256, 1024])\n",
        "    X = Sign_LanguageNet_identity_block(X, 3, [256, 256, 1024])\n",
        "    X = Sign_LanguageNet_identity_block(X, 3, [256, 256, 1024])\n",
        "    X = Sign_LanguageNet_identity_block(X, 3, [256, 256, 1024])\n",
        "    X = Sign_LanguageNet_convolutional_block(X, 3, [512, 512, 2048], stride = 2)\n",
        "    X = Sign_LanguageNet_identity_block(X, 3, [512, 512, 2048])\n",
        "    X = Sign_LanguageNet_identity_block(X, 3, [512, 512, 2048])\n",
        "    X = Sign_LanguageNet_identity_block(X, 3, [512, 512, 2048])\n",
        "    X = AveragePooling2D((2, 2))(X) ## now, lets add a pooling layer\n",
        "    X=Dropout(0.25)(X) # dropout\n",
        "    X = Flatten()(X)\n",
        "    X= Dense(256, activation='relu',kernel_initializer = \"HeNormal\")(X)\n",
        "    X=Dropout(0.25)(X)\n",
        "    X= Dense(128, activation='relu',kernel_initializer = \"HeNormal\")(X)\n",
        "    X= Dropout(0.3)(X)\n",
        "    X = Dense(classes, activation='softmax', kernel_initializer = \"HeNormal\")(X)\n",
        "    model = Model(inputs = input, outputs = X)\n",
        "    return model"
      ],
      "execution_count": 34,
      "outputs": []
    },
    {
      "cell_type": "markdown",
      "metadata": {
        "id": "jK-Cq82bIO6g"
      },
      "source": [
        "#### Model Summary"
      ]
    },
    {
      "cell_type": "code",
      "metadata": {
        "id": "6mXHVUXMIMWv"
      },
      "source": [
        "model = Sign_LanguageNet(input_shape = (28, 28, 1), classes = 24)\n",
        "\n"
      ],
      "execution_count": 35,
      "outputs": []
    },
    {
      "cell_type": "markdown",
      "source": [
        "- Let's print out the model summary"
      ],
      "metadata": {
        "id": "MtPxMSDzCmTo"
      }
    },
    {
      "cell_type": "code",
      "source": [
        "print(model.summary())\n"
      ],
      "metadata": {
        "colab": {
          "base_uri": "https://localhost:8080/"
        },
        "id": "mx5vv7OgCktt",
        "outputId": "2a407994-542f-4b08-e730-261e40466997"
      },
      "execution_count": 36,
      "outputs": [
        {
          "output_type": "stream",
          "name": "stdout",
          "text": [
            "Model: \"model_1\"\n",
            "__________________________________________________________________________________________________\n",
            " Layer (type)                   Output Shape         Param #     Connected to                     \n",
            "==================================================================================================\n",
            " input_4 (InputLayer)           [(None, 28, 28, 1)]  0           []                               \n",
            "                                                                                                  \n",
            " zero_padding2d_3 (ZeroPadding2  (None, 42, 42, 1)   0           ['input_4[0][0]']                \n",
            " D)                                                                                               \n",
            "                                                                                                  \n",
            " conv2d_69 (Conv2D)             (None, 19, 19, 64)   1664        ['zero_padding2d_3[0][0]']       \n",
            "                                                                                                  \n",
            " batch_normalization_69 (BatchN  (None, 19, 19, 64)  256         ['conv2d_69[0][0]']              \n",
            " ormalization)                                                                                    \n",
            "                                                                                                  \n",
            " activation_65 (Activation)     (None, 19, 19, 64)   0           ['batch_normalization_69[0][0]'] \n",
            "                                                                                                  \n",
            " max_pooling2d_2 (MaxPooling2D)  (None, 9, 9, 64)    0           ['activation_65[0][0]']          \n",
            "                                                                                                  \n",
            " conv2d_70 (Conv2D)             (None, 9, 9, 64)     4160        ['max_pooling2d_2[0][0]']        \n",
            "                                                                                                  \n",
            " batch_normalization_70 (BatchN  (None, 9, 9, 64)    256         ['conv2d_70[0][0]']              \n",
            " ormalization)                                                                                    \n",
            "                                                                                                  \n",
            " activation_66 (Activation)     (None, 9, 9, 64)     0           ['batch_normalization_70[0][0]'] \n",
            "                                                                                                  \n",
            " conv2d_71 (Conv2D)             (None, 9, 9, 64)     36928       ['activation_66[0][0]']          \n",
            "                                                                                                  \n",
            " batch_normalization_71 (BatchN  (None, 9, 9, 64)    256         ['conv2d_71[0][0]']              \n",
            " ormalization)                                                                                    \n",
            "                                                                                                  \n",
            " activation_67 (Activation)     (None, 9, 9, 64)     0           ['batch_normalization_71[0][0]'] \n",
            "                                                                                                  \n",
            " conv2d_72 (Conv2D)             (None, 9, 9, 256)    16640       ['activation_67[0][0]']          \n",
            "                                                                                                  \n",
            " conv2d_73 (Conv2D)             (None, 9, 9, 256)    16640       ['max_pooling2d_2[0][0]']        \n",
            "                                                                                                  \n",
            " batch_normalization_72 (BatchN  (None, 9, 9, 256)   1024        ['conv2d_72[0][0]']              \n",
            " ormalization)                                                                                    \n",
            "                                                                                                  \n",
            " batch_normalization_73 (BatchN  (None, 9, 9, 256)   1024        ['conv2d_73[0][0]']              \n",
            " ormalization)                                                                                    \n",
            "                                                                                                  \n",
            " add_21 (Add)                   (None, 9, 9, 256)    0           ['batch_normalization_72[0][0]', \n",
            "                                                                  'batch_normalization_73[0][0]'] \n",
            "                                                                                                  \n",
            " activation_68 (Activation)     (None, 9, 9, 256)    0           ['add_21[0][0]']                 \n",
            "                                                                                                  \n",
            " conv2d_74 (Conv2D)             (None, 9, 9, 64)     16448       ['activation_68[0][0]']          \n",
            "                                                                                                  \n",
            " batch_normalization_74 (BatchN  (None, 9, 9, 64)    256         ['conv2d_74[0][0]']              \n",
            " ormalization)                                                                                    \n",
            "                                                                                                  \n",
            " activation_69 (Activation)     (None, 9, 9, 64)     0           ['batch_normalization_74[0][0]'] \n",
            "                                                                                                  \n",
            " conv2d_75 (Conv2D)             (None, 9, 9, 64)     36928       ['activation_69[0][0]']          \n",
            "                                                                                                  \n",
            " batch_normalization_75 (BatchN  (None, 9, 9, 64)    256         ['conv2d_75[0][0]']              \n",
            " ormalization)                                                                                    \n",
            "                                                                                                  \n",
            " activation_70 (Activation)     (None, 9, 9, 64)     0           ['batch_normalization_75[0][0]'] \n",
            "                                                                                                  \n",
            " conv2d_76 (Conv2D)             (None, 9, 9, 256)    16640       ['activation_70[0][0]']          \n",
            "                                                                                                  \n",
            " batch_normalization_76 (BatchN  (None, 9, 9, 256)   1024        ['conv2d_76[0][0]']              \n",
            " ormalization)                                                                                    \n",
            "                                                                                                  \n",
            " add_22 (Add)                   (None, 9, 9, 256)    0           ['activation_68[0][0]',          \n",
            "                                                                  'batch_normalization_76[0][0]'] \n",
            "                                                                                                  \n",
            " activation_71 (Activation)     (None, 9, 9, 256)    0           ['add_22[0][0]']                 \n",
            "                                                                                                  \n",
            " conv2d_77 (Conv2D)             (None, 9, 9, 64)     16448       ['activation_71[0][0]']          \n",
            "                                                                                                  \n",
            " batch_normalization_77 (BatchN  (None, 9, 9, 64)    256         ['conv2d_77[0][0]']              \n",
            " ormalization)                                                                                    \n",
            "                                                                                                  \n",
            " activation_72 (Activation)     (None, 9, 9, 64)     0           ['batch_normalization_77[0][0]'] \n",
            "                                                                                                  \n",
            " conv2d_78 (Conv2D)             (None, 9, 9, 64)     36928       ['activation_72[0][0]']          \n",
            "                                                                                                  \n",
            " batch_normalization_78 (BatchN  (None, 9, 9, 64)    256         ['conv2d_78[0][0]']              \n",
            " ormalization)                                                                                    \n",
            "                                                                                                  \n",
            " activation_73 (Activation)     (None, 9, 9, 64)     0           ['batch_normalization_78[0][0]'] \n",
            "                                                                                                  \n",
            " conv2d_79 (Conv2D)             (None, 9, 9, 256)    16640       ['activation_73[0][0]']          \n",
            "                                                                                                  \n",
            " batch_normalization_79 (BatchN  (None, 9, 9, 256)   1024        ['conv2d_79[0][0]']              \n",
            " ormalization)                                                                                    \n",
            "                                                                                                  \n",
            " add_23 (Add)                   (None, 9, 9, 256)    0           ['activation_71[0][0]',          \n",
            "                                                                  'batch_normalization_79[0][0]'] \n",
            "                                                                                                  \n",
            " activation_74 (Activation)     (None, 9, 9, 256)    0           ['add_23[0][0]']                 \n",
            "                                                                                                  \n",
            " conv2d_80 (Conv2D)             (None, 9, 9, 64)     16448       ['activation_74[0][0]']          \n",
            "                                                                                                  \n",
            " batch_normalization_80 (BatchN  (None, 9, 9, 64)    256         ['conv2d_80[0][0]']              \n",
            " ormalization)                                                                                    \n",
            "                                                                                                  \n",
            " activation_75 (Activation)     (None, 9, 9, 64)     0           ['batch_normalization_80[0][0]'] \n",
            "                                                                                                  \n",
            " conv2d_81 (Conv2D)             (None, 9, 9, 64)     36928       ['activation_75[0][0]']          \n",
            "                                                                                                  \n",
            " batch_normalization_81 (BatchN  (None, 9, 9, 64)    256         ['conv2d_81[0][0]']              \n",
            " ormalization)                                                                                    \n",
            "                                                                                                  \n",
            " activation_76 (Activation)     (None, 9, 9, 64)     0           ['batch_normalization_81[0][0]'] \n",
            "                                                                                                  \n",
            " conv2d_82 (Conv2D)             (None, 9, 9, 256)    16640       ['activation_76[0][0]']          \n",
            "                                                                                                  \n",
            " batch_normalization_82 (BatchN  (None, 9, 9, 256)   1024        ['conv2d_82[0][0]']              \n",
            " ormalization)                                                                                    \n",
            "                                                                                                  \n",
            " add_24 (Add)                   (None, 9, 9, 256)    0           ['activation_74[0][0]',          \n",
            "                                                                  'batch_normalization_82[0][0]'] \n",
            "                                                                                                  \n",
            " activation_77 (Activation)     (None, 9, 9, 256)    0           ['add_24[0][0]']                 \n",
            "                                                                                                  \n",
            " conv2d_83 (Conv2D)             (None, 9, 9, 64)     16448       ['activation_77[0][0]']          \n",
            "                                                                                                  \n",
            " batch_normalization_83 (BatchN  (None, 9, 9, 64)    256         ['conv2d_83[0][0]']              \n",
            " ormalization)                                                                                    \n",
            "                                                                                                  \n",
            " activation_78 (Activation)     (None, 9, 9, 64)     0           ['batch_normalization_83[0][0]'] \n",
            "                                                                                                  \n",
            " conv2d_84 (Conv2D)             (None, 9, 9, 64)     36928       ['activation_78[0][0]']          \n",
            "                                                                                                  \n",
            " batch_normalization_84 (BatchN  (None, 9, 9, 64)    256         ['conv2d_84[0][0]']              \n",
            " ormalization)                                                                                    \n",
            "                                                                                                  \n",
            " activation_79 (Activation)     (None, 9, 9, 64)     0           ['batch_normalization_84[0][0]'] \n",
            "                                                                                                  \n",
            " conv2d_85 (Conv2D)             (None, 9, 9, 256)    16640       ['activation_79[0][0]']          \n",
            "                                                                                                  \n",
            " batch_normalization_85 (BatchN  (None, 9, 9, 256)   1024        ['conv2d_85[0][0]']              \n",
            " ormalization)                                                                                    \n",
            "                                                                                                  \n",
            " add_25 (Add)                   (None, 9, 9, 256)    0           ['activation_77[0][0]',          \n",
            "                                                                  'batch_normalization_85[0][0]'] \n",
            "                                                                                                  \n",
            " activation_80 (Activation)     (None, 9, 9, 256)    0           ['add_25[0][0]']                 \n",
            "                                                                                                  \n",
            " conv2d_86 (Conv2D)             (None, 5, 5, 128)    32896       ['activation_80[0][0]']          \n",
            "                                                                                                  \n",
            " batch_normalization_86 (BatchN  (None, 5, 5, 128)   512         ['conv2d_86[0][0]']              \n",
            " ormalization)                                                                                    \n",
            "                                                                                                  \n",
            " activation_81 (Activation)     (None, 5, 5, 128)    0           ['batch_normalization_86[0][0]'] \n",
            "                                                                                                  \n",
            " conv2d_87 (Conv2D)             (None, 5, 5, 128)    147584      ['activation_81[0][0]']          \n",
            "                                                                                                  \n",
            " batch_normalization_87 (BatchN  (None, 5, 5, 128)   512         ['conv2d_87[0][0]']              \n",
            " ormalization)                                                                                    \n",
            "                                                                                                  \n",
            " activation_82 (Activation)     (None, 5, 5, 128)    0           ['batch_normalization_87[0][0]'] \n",
            "                                                                                                  \n",
            " conv2d_88 (Conv2D)             (None, 5, 5, 512)    66048       ['activation_82[0][0]']          \n",
            "                                                                                                  \n",
            " conv2d_89 (Conv2D)             (None, 5, 5, 512)    131584      ['activation_80[0][0]']          \n",
            "                                                                                                  \n",
            " batch_normalization_88 (BatchN  (None, 5, 5, 512)   2048        ['conv2d_88[0][0]']              \n",
            " ormalization)                                                                                    \n",
            "                                                                                                  \n",
            " batch_normalization_89 (BatchN  (None, 5, 5, 512)   2048        ['conv2d_89[0][0]']              \n",
            " ormalization)                                                                                    \n",
            "                                                                                                  \n",
            " add_26 (Add)                   (None, 5, 5, 512)    0           ['batch_normalization_88[0][0]', \n",
            "                                                                  'batch_normalization_89[0][0]'] \n",
            "                                                                                                  \n",
            " activation_83 (Activation)     (None, 5, 5, 512)    0           ['add_26[0][0]']                 \n",
            "                                                                                                  \n",
            " conv2d_90 (Conv2D)             (None, 5, 5, 128)    65664       ['activation_83[0][0]']          \n",
            "                                                                                                  \n",
            " batch_normalization_90 (BatchN  (None, 5, 5, 128)   512         ['conv2d_90[0][0]']              \n",
            " ormalization)                                                                                    \n",
            "                                                                                                  \n",
            " activation_84 (Activation)     (None, 5, 5, 128)    0           ['batch_normalization_90[0][0]'] \n",
            "                                                                                                  \n",
            " conv2d_91 (Conv2D)             (None, 5, 5, 128)    147584      ['activation_84[0][0]']          \n",
            "                                                                                                  \n",
            " batch_normalization_91 (BatchN  (None, 5, 5, 128)   512         ['conv2d_91[0][0]']              \n",
            " ormalization)                                                                                    \n",
            "                                                                                                  \n",
            " activation_85 (Activation)     (None, 5, 5, 128)    0           ['batch_normalization_91[0][0]'] \n",
            "                                                                                                  \n",
            " conv2d_92 (Conv2D)             (None, 5, 5, 512)    66048       ['activation_85[0][0]']          \n",
            "                                                                                                  \n",
            " batch_normalization_92 (BatchN  (None, 5, 5, 512)   2048        ['conv2d_92[0][0]']              \n",
            " ormalization)                                                                                    \n",
            "                                                                                                  \n",
            " add_27 (Add)                   (None, 5, 5, 512)    0           ['activation_83[0][0]',          \n",
            "                                                                  'batch_normalization_92[0][0]'] \n",
            "                                                                                                  \n",
            " activation_86 (Activation)     (None, 5, 5, 512)    0           ['add_27[0][0]']                 \n",
            "                                                                                                  \n",
            " conv2d_93 (Conv2D)             (None, 5, 5, 128)    65664       ['activation_86[0][0]']          \n",
            "                                                                                                  \n",
            " batch_normalization_93 (BatchN  (None, 5, 5, 128)   512         ['conv2d_93[0][0]']              \n",
            " ormalization)                                                                                    \n",
            "                                                                                                  \n",
            " activation_87 (Activation)     (None, 5, 5, 128)    0           ['batch_normalization_93[0][0]'] \n",
            "                                                                                                  \n",
            " conv2d_94 (Conv2D)             (None, 5, 5, 128)    147584      ['activation_87[0][0]']          \n",
            "                                                                                                  \n",
            " batch_normalization_94 (BatchN  (None, 5, 5, 128)   512         ['conv2d_94[0][0]']              \n",
            " ormalization)                                                                                    \n",
            "                                                                                                  \n",
            " activation_88 (Activation)     (None, 5, 5, 128)    0           ['batch_normalization_94[0][0]'] \n",
            "                                                                                                  \n",
            " conv2d_95 (Conv2D)             (None, 5, 5, 512)    66048       ['activation_88[0][0]']          \n",
            "                                                                                                  \n",
            " batch_normalization_95 (BatchN  (None, 5, 5, 512)   2048        ['conv2d_95[0][0]']              \n",
            " ormalization)                                                                                    \n",
            "                                                                                                  \n",
            " add_28 (Add)                   (None, 5, 5, 512)    0           ['activation_86[0][0]',          \n",
            "                                                                  'batch_normalization_95[0][0]'] \n",
            "                                                                                                  \n",
            " activation_89 (Activation)     (None, 5, 5, 512)    0           ['add_28[0][0]']                 \n",
            "                                                                                                  \n",
            " conv2d_96 (Conv2D)             (None, 5, 5, 128)    65664       ['activation_89[0][0]']          \n",
            "                                                                                                  \n",
            " batch_normalization_96 (BatchN  (None, 5, 5, 128)   512         ['conv2d_96[0][0]']              \n",
            " ormalization)                                                                                    \n",
            "                                                                                                  \n",
            " activation_90 (Activation)     (None, 5, 5, 128)    0           ['batch_normalization_96[0][0]'] \n",
            "                                                                                                  \n",
            " conv2d_97 (Conv2D)             (None, 5, 5, 128)    147584      ['activation_90[0][0]']          \n",
            "                                                                                                  \n",
            " batch_normalization_97 (BatchN  (None, 5, 5, 128)   512         ['conv2d_97[0][0]']              \n",
            " ormalization)                                                                                    \n",
            "                                                                                                  \n",
            " activation_91 (Activation)     (None, 5, 5, 128)    0           ['batch_normalization_97[0][0]'] \n",
            "                                                                                                  \n",
            " conv2d_98 (Conv2D)             (None, 5, 5, 512)    66048       ['activation_91[0][0]']          \n",
            "                                                                                                  \n",
            " batch_normalization_98 (BatchN  (None, 5, 5, 512)   2048        ['conv2d_98[0][0]']              \n",
            " ormalization)                                                                                    \n",
            "                                                                                                  \n",
            " add_29 (Add)                   (None, 5, 5, 512)    0           ['activation_89[0][0]',          \n",
            "                                                                  'batch_normalization_98[0][0]'] \n",
            "                                                                                                  \n",
            " activation_92 (Activation)     (None, 5, 5, 512)    0           ['add_29[0][0]']                 \n",
            "                                                                                                  \n",
            " conv2d_99 (Conv2D)             (None, 5, 5, 128)    65664       ['activation_92[0][0]']          \n",
            "                                                                                                  \n",
            " batch_normalization_99 (BatchN  (None, 5, 5, 128)   512         ['conv2d_99[0][0]']              \n",
            " ormalization)                                                                                    \n",
            "                                                                                                  \n",
            " activation_93 (Activation)     (None, 5, 5, 128)    0           ['batch_normalization_99[0][0]'] \n",
            "                                                                                                  \n",
            " conv2d_100 (Conv2D)            (None, 5, 5, 128)    147584      ['activation_93[0][0]']          \n",
            "                                                                                                  \n",
            " batch_normalization_100 (Batch  (None, 5, 5, 128)   512         ['conv2d_100[0][0]']             \n",
            " Normalization)                                                                                   \n",
            "                                                                                                  \n",
            " activation_94 (Activation)     (None, 5, 5, 128)    0           ['batch_normalization_100[0][0]']\n",
            "                                                                                                  \n",
            " conv2d_101 (Conv2D)            (None, 5, 5, 512)    66048       ['activation_94[0][0]']          \n",
            "                                                                                                  \n",
            " batch_normalization_101 (Batch  (None, 5, 5, 512)   2048        ['conv2d_101[0][0]']             \n",
            " Normalization)                                                                                   \n",
            "                                                                                                  \n",
            " add_30 (Add)                   (None, 5, 5, 512)    0           ['activation_92[0][0]',          \n",
            "                                                                  'batch_normalization_101[0][0]']\n",
            "                                                                                                  \n",
            " activation_95 (Activation)     (None, 5, 5, 512)    0           ['add_30[0][0]']                 \n",
            "                                                                                                  \n",
            " conv2d_102 (Conv2D)            (None, 3, 3, 256)    131328      ['activation_95[0][0]']          \n",
            "                                                                                                  \n",
            " batch_normalization_102 (Batch  (None, 3, 3, 256)   1024        ['conv2d_102[0][0]']             \n",
            " Normalization)                                                                                   \n",
            "                                                                                                  \n",
            " activation_96 (Activation)     (None, 3, 3, 256)    0           ['batch_normalization_102[0][0]']\n",
            "                                                                                                  \n",
            " conv2d_103 (Conv2D)            (None, 3, 3, 256)    590080      ['activation_96[0][0]']          \n",
            "                                                                                                  \n",
            " batch_normalization_103 (Batch  (None, 3, 3, 256)   1024        ['conv2d_103[0][0]']             \n",
            " Normalization)                                                                                   \n",
            "                                                                                                  \n",
            " activation_97 (Activation)     (None, 3, 3, 256)    0           ['batch_normalization_103[0][0]']\n",
            "                                                                                                  \n",
            " conv2d_104 (Conv2D)            (None, 3, 3, 1024)   263168      ['activation_97[0][0]']          \n",
            "                                                                                                  \n",
            " conv2d_105 (Conv2D)            (None, 3, 3, 1024)   525312      ['activation_95[0][0]']          \n",
            "                                                                                                  \n",
            " batch_normalization_104 (Batch  (None, 3, 3, 1024)  4096        ['conv2d_104[0][0]']             \n",
            " Normalization)                                                                                   \n",
            "                                                                                                  \n",
            " batch_normalization_105 (Batch  (None, 3, 3, 1024)  4096        ['conv2d_105[0][0]']             \n",
            " Normalization)                                                                                   \n",
            "                                                                                                  \n",
            " add_31 (Add)                   (None, 3, 3, 1024)   0           ['batch_normalization_104[0][0]',\n",
            "                                                                  'batch_normalization_105[0][0]']\n",
            "                                                                                                  \n",
            " activation_98 (Activation)     (None, 3, 3, 1024)   0           ['add_31[0][0]']                 \n",
            "                                                                                                  \n",
            " conv2d_106 (Conv2D)            (None, 3, 3, 256)    262400      ['activation_98[0][0]']          \n",
            "                                                                                                  \n",
            " batch_normalization_106 (Batch  (None, 3, 3, 256)   1024        ['conv2d_106[0][0]']             \n",
            " Normalization)                                                                                   \n",
            "                                                                                                  \n",
            " activation_99 (Activation)     (None, 3, 3, 256)    0           ['batch_normalization_106[0][0]']\n",
            "                                                                                                  \n",
            " conv2d_107 (Conv2D)            (None, 3, 3, 256)    590080      ['activation_99[0][0]']          \n",
            "                                                                                                  \n",
            " batch_normalization_107 (Batch  (None, 3, 3, 256)   1024        ['conv2d_107[0][0]']             \n",
            " Normalization)                                                                                   \n",
            "                                                                                                  \n",
            " activation_100 (Activation)    (None, 3, 3, 256)    0           ['batch_normalization_107[0][0]']\n",
            "                                                                                                  \n",
            " conv2d_108 (Conv2D)            (None, 3, 3, 1024)   263168      ['activation_100[0][0]']         \n",
            "                                                                                                  \n",
            " batch_normalization_108 (Batch  (None, 3, 3, 1024)  4096        ['conv2d_108[0][0]']             \n",
            " Normalization)                                                                                   \n",
            "                                                                                                  \n",
            " add_32 (Add)                   (None, 3, 3, 1024)   0           ['activation_98[0][0]',          \n",
            "                                                                  'batch_normalization_108[0][0]']\n",
            "                                                                                                  \n",
            " activation_101 (Activation)    (None, 3, 3, 1024)   0           ['add_32[0][0]']                 \n",
            "                                                                                                  \n",
            " conv2d_109 (Conv2D)            (None, 3, 3, 256)    262400      ['activation_101[0][0]']         \n",
            "                                                                                                  \n",
            " batch_normalization_109 (Batch  (None, 3, 3, 256)   1024        ['conv2d_109[0][0]']             \n",
            " Normalization)                                                                                   \n",
            "                                                                                                  \n",
            " activation_102 (Activation)    (None, 3, 3, 256)    0           ['batch_normalization_109[0][0]']\n",
            "                                                                                                  \n",
            " conv2d_110 (Conv2D)            (None, 3, 3, 256)    590080      ['activation_102[0][0]']         \n",
            "                                                                                                  \n",
            " batch_normalization_110 (Batch  (None, 3, 3, 256)   1024        ['conv2d_110[0][0]']             \n",
            " Normalization)                                                                                   \n",
            "                                                                                                  \n",
            " activation_103 (Activation)    (None, 3, 3, 256)    0           ['batch_normalization_110[0][0]']\n",
            "                                                                                                  \n",
            " conv2d_111 (Conv2D)            (None, 3, 3, 1024)   263168      ['activation_103[0][0]']         \n",
            "                                                                                                  \n",
            " batch_normalization_111 (Batch  (None, 3, 3, 1024)  4096        ['conv2d_111[0][0]']             \n",
            " Normalization)                                                                                   \n",
            "                                                                                                  \n",
            " add_33 (Add)                   (None, 3, 3, 1024)   0           ['activation_101[0][0]',         \n",
            "                                                                  'batch_normalization_111[0][0]']\n",
            "                                                                                                  \n",
            " activation_104 (Activation)    (None, 3, 3, 1024)   0           ['add_33[0][0]']                 \n",
            "                                                                                                  \n",
            " conv2d_112 (Conv2D)            (None, 3, 3, 256)    262400      ['activation_104[0][0]']         \n",
            "                                                                                                  \n",
            " batch_normalization_112 (Batch  (None, 3, 3, 256)   1024        ['conv2d_112[0][0]']             \n",
            " Normalization)                                                                                   \n",
            "                                                                                                  \n",
            " activation_105 (Activation)    (None, 3, 3, 256)    0           ['batch_normalization_112[0][0]']\n",
            "                                                                                                  \n",
            " conv2d_113 (Conv2D)            (None, 3, 3, 256)    590080      ['activation_105[0][0]']         \n",
            "                                                                                                  \n",
            " batch_normalization_113 (Batch  (None, 3, 3, 256)   1024        ['conv2d_113[0][0]']             \n",
            " Normalization)                                                                                   \n",
            "                                                                                                  \n",
            " activation_106 (Activation)    (None, 3, 3, 256)    0           ['batch_normalization_113[0][0]']\n",
            "                                                                                                  \n",
            " conv2d_114 (Conv2D)            (None, 3, 3, 1024)   263168      ['activation_106[0][0]']         \n",
            "                                                                                                  \n",
            " batch_normalization_114 (Batch  (None, 3, 3, 1024)  4096        ['conv2d_114[0][0]']             \n",
            " Normalization)                                                                                   \n",
            "                                                                                                  \n",
            " add_34 (Add)                   (None, 3, 3, 1024)   0           ['activation_104[0][0]',         \n",
            "                                                                  'batch_normalization_114[0][0]']\n",
            "                                                                                                  \n",
            " activation_107 (Activation)    (None, 3, 3, 1024)   0           ['add_34[0][0]']                 \n",
            "                                                                                                  \n",
            " conv2d_115 (Conv2D)            (None, 3, 3, 256)    262400      ['activation_107[0][0]']         \n",
            "                                                                                                  \n",
            " batch_normalization_115 (Batch  (None, 3, 3, 256)   1024        ['conv2d_115[0][0]']             \n",
            " Normalization)                                                                                   \n",
            "                                                                                                  \n",
            " activation_108 (Activation)    (None, 3, 3, 256)    0           ['batch_normalization_115[0][0]']\n",
            "                                                                                                  \n",
            " conv2d_116 (Conv2D)            (None, 3, 3, 256)    590080      ['activation_108[0][0]']         \n",
            "                                                                                                  \n",
            " batch_normalization_116 (Batch  (None, 3, 3, 256)   1024        ['conv2d_116[0][0]']             \n",
            " Normalization)                                                                                   \n",
            "                                                                                                  \n",
            " activation_109 (Activation)    (None, 3, 3, 256)    0           ['batch_normalization_116[0][0]']\n",
            "                                                                                                  \n",
            " conv2d_117 (Conv2D)            (None, 3, 3, 1024)   263168      ['activation_109[0][0]']         \n",
            "                                                                                                  \n",
            " batch_normalization_117 (Batch  (None, 3, 3, 1024)  4096        ['conv2d_117[0][0]']             \n",
            " Normalization)                                                                                   \n",
            "                                                                                                  \n",
            " add_35 (Add)                   (None, 3, 3, 1024)   0           ['activation_107[0][0]',         \n",
            "                                                                  'batch_normalization_117[0][0]']\n",
            "                                                                                                  \n",
            " activation_110 (Activation)    (None, 3, 3, 1024)   0           ['add_35[0][0]']                 \n",
            "                                                                                                  \n",
            " conv2d_118 (Conv2D)            (None, 3, 3, 256)    262400      ['activation_110[0][0]']         \n",
            "                                                                                                  \n",
            " batch_normalization_118 (Batch  (None, 3, 3, 256)   1024        ['conv2d_118[0][0]']             \n",
            " Normalization)                                                                                   \n",
            "                                                                                                  \n",
            " activation_111 (Activation)    (None, 3, 3, 256)    0           ['batch_normalization_118[0][0]']\n",
            "                                                                                                  \n",
            " conv2d_119 (Conv2D)            (None, 3, 3, 256)    590080      ['activation_111[0][0]']         \n",
            "                                                                                                  \n",
            " batch_normalization_119 (Batch  (None, 3, 3, 256)   1024        ['conv2d_119[0][0]']             \n",
            " Normalization)                                                                                   \n",
            "                                                                                                  \n",
            " activation_112 (Activation)    (None, 3, 3, 256)    0           ['batch_normalization_119[0][0]']\n",
            "                                                                                                  \n",
            " conv2d_120 (Conv2D)            (None, 3, 3, 1024)   263168      ['activation_112[0][0]']         \n",
            "                                                                                                  \n",
            " batch_normalization_120 (Batch  (None, 3, 3, 1024)  4096        ['conv2d_120[0][0]']             \n",
            " Normalization)                                                                                   \n",
            "                                                                                                  \n",
            " add_36 (Add)                   (None, 3, 3, 1024)   0           ['activation_110[0][0]',         \n",
            "                                                                  'batch_normalization_120[0][0]']\n",
            "                                                                                                  \n",
            " activation_113 (Activation)    (None, 3, 3, 1024)   0           ['add_36[0][0]']                 \n",
            "                                                                                                  \n",
            " conv2d_121 (Conv2D)            (None, 3, 3, 256)    262400      ['activation_113[0][0]']         \n",
            "                                                                                                  \n",
            " batch_normalization_121 (Batch  (None, 3, 3, 256)   1024        ['conv2d_121[0][0]']             \n",
            " Normalization)                                                                                   \n",
            "                                                                                                  \n",
            " activation_114 (Activation)    (None, 3, 3, 256)    0           ['batch_normalization_121[0][0]']\n",
            "                                                                                                  \n",
            " conv2d_122 (Conv2D)            (None, 3, 3, 256)    590080      ['activation_114[0][0]']         \n",
            "                                                                                                  \n",
            " batch_normalization_122 (Batch  (None, 3, 3, 256)   1024        ['conv2d_122[0][0]']             \n",
            " Normalization)                                                                                   \n",
            "                                                                                                  \n",
            " activation_115 (Activation)    (None, 3, 3, 256)    0           ['batch_normalization_122[0][0]']\n",
            "                                                                                                  \n",
            " conv2d_123 (Conv2D)            (None, 3, 3, 1024)   263168      ['activation_115[0][0]']         \n",
            "                                                                                                  \n",
            " batch_normalization_123 (Batch  (None, 3, 3, 1024)  4096        ['conv2d_123[0][0]']             \n",
            " Normalization)                                                                                   \n",
            "                                                                                                  \n",
            " add_37 (Add)                   (None, 3, 3, 1024)   0           ['activation_113[0][0]',         \n",
            "                                                                  'batch_normalization_123[0][0]']\n",
            "                                                                                                  \n",
            " activation_116 (Activation)    (None, 3, 3, 1024)   0           ['add_37[0][0]']                 \n",
            "                                                                                                  \n",
            " conv2d_124 (Conv2D)            (None, 2, 2, 512)    524800      ['activation_116[0][0]']         \n",
            "                                                                                                  \n",
            " batch_normalization_124 (Batch  (None, 2, 2, 512)   2048        ['conv2d_124[0][0]']             \n",
            " Normalization)                                                                                   \n",
            "                                                                                                  \n",
            " activation_117 (Activation)    (None, 2, 2, 512)    0           ['batch_normalization_124[0][0]']\n",
            "                                                                                                  \n",
            " conv2d_125 (Conv2D)            (None, 2, 2, 512)    2359808     ['activation_117[0][0]']         \n",
            "                                                                                                  \n",
            " batch_normalization_125 (Batch  (None, 2, 2, 512)   2048        ['conv2d_125[0][0]']             \n",
            " Normalization)                                                                                   \n",
            "                                                                                                  \n",
            " activation_118 (Activation)    (None, 2, 2, 512)    0           ['batch_normalization_125[0][0]']\n",
            "                                                                                                  \n",
            " conv2d_126 (Conv2D)            (None, 2, 2, 2048)   1050624     ['activation_118[0][0]']         \n",
            "                                                                                                  \n",
            " conv2d_127 (Conv2D)            (None, 2, 2, 2048)   2099200     ['activation_116[0][0]']         \n",
            "                                                                                                  \n",
            " batch_normalization_126 (Batch  (None, 2, 2, 2048)  8192        ['conv2d_126[0][0]']             \n",
            " Normalization)                                                                                   \n",
            "                                                                                                  \n",
            " batch_normalization_127 (Batch  (None, 2, 2, 2048)  8192        ['conv2d_127[0][0]']             \n",
            " Normalization)                                                                                   \n",
            "                                                                                                  \n",
            " add_38 (Add)                   (None, 2, 2, 2048)   0           ['batch_normalization_126[0][0]',\n",
            "                                                                  'batch_normalization_127[0][0]']\n",
            "                                                                                                  \n",
            " activation_119 (Activation)    (None, 2, 2, 2048)   0           ['add_38[0][0]']                 \n",
            "                                                                                                  \n",
            " conv2d_128 (Conv2D)            (None, 2, 2, 512)    1049088     ['activation_119[0][0]']         \n",
            "                                                                                                  \n",
            " batch_normalization_128 (Batch  (None, 2, 2, 512)   2048        ['conv2d_128[0][0]']             \n",
            " Normalization)                                                                                   \n",
            "                                                                                                  \n",
            " activation_120 (Activation)    (None, 2, 2, 512)    0           ['batch_normalization_128[0][0]']\n",
            "                                                                                                  \n",
            " conv2d_129 (Conv2D)            (None, 2, 2, 512)    2359808     ['activation_120[0][0]']         \n",
            "                                                                                                  \n",
            " batch_normalization_129 (Batch  (None, 2, 2, 512)   2048        ['conv2d_129[0][0]']             \n",
            " Normalization)                                                                                   \n",
            "                                                                                                  \n",
            " activation_121 (Activation)    (None, 2, 2, 512)    0           ['batch_normalization_129[0][0]']\n",
            "                                                                                                  \n",
            " conv2d_130 (Conv2D)            (None, 2, 2, 2048)   1050624     ['activation_121[0][0]']         \n",
            "                                                                                                  \n",
            " batch_normalization_130 (Batch  (None, 2, 2, 2048)  8192        ['conv2d_130[0][0]']             \n",
            " Normalization)                                                                                   \n",
            "                                                                                                  \n",
            " add_39 (Add)                   (None, 2, 2, 2048)   0           ['activation_119[0][0]',         \n",
            "                                                                  'batch_normalization_130[0][0]']\n",
            "                                                                                                  \n",
            " activation_122 (Activation)    (None, 2, 2, 2048)   0           ['add_39[0][0]']                 \n",
            "                                                                                                  \n",
            " conv2d_131 (Conv2D)            (None, 2, 2, 512)    1049088     ['activation_122[0][0]']         \n",
            "                                                                                                  \n",
            " batch_normalization_131 (Batch  (None, 2, 2, 512)   2048        ['conv2d_131[0][0]']             \n",
            " Normalization)                                                                                   \n",
            "                                                                                                  \n",
            " activation_123 (Activation)    (None, 2, 2, 512)    0           ['batch_normalization_131[0][0]']\n",
            "                                                                                                  \n",
            " conv2d_132 (Conv2D)            (None, 2, 2, 512)    2359808     ['activation_123[0][0]']         \n",
            "                                                                                                  \n",
            " batch_normalization_132 (Batch  (None, 2, 2, 512)   2048        ['conv2d_132[0][0]']             \n",
            " Normalization)                                                                                   \n",
            "                                                                                                  \n",
            " activation_124 (Activation)    (None, 2, 2, 512)    0           ['batch_normalization_132[0][0]']\n",
            "                                                                                                  \n",
            " conv2d_133 (Conv2D)            (None, 2, 2, 2048)   1050624     ['activation_124[0][0]']         \n",
            "                                                                                                  \n",
            " batch_normalization_133 (Batch  (None, 2, 2, 2048)  8192        ['conv2d_133[0][0]']             \n",
            " Normalization)                                                                                   \n",
            "                                                                                                  \n",
            " add_40 (Add)                   (None, 2, 2, 2048)   0           ['activation_122[0][0]',         \n",
            "                                                                  'batch_normalization_133[0][0]']\n",
            "                                                                                                  \n",
            " activation_125 (Activation)    (None, 2, 2, 2048)   0           ['add_40[0][0]']                 \n",
            "                                                                                                  \n",
            " conv2d_134 (Conv2D)            (None, 2, 2, 512)    1049088     ['activation_125[0][0]']         \n",
            "                                                                                                  \n",
            " batch_normalization_134 (Batch  (None, 2, 2, 512)   2048        ['conv2d_134[0][0]']             \n",
            " Normalization)                                                                                   \n",
            "                                                                                                  \n",
            " activation_126 (Activation)    (None, 2, 2, 512)    0           ['batch_normalization_134[0][0]']\n",
            "                                                                                                  \n",
            " conv2d_135 (Conv2D)            (None, 2, 2, 512)    2359808     ['activation_126[0][0]']         \n",
            "                                                                                                  \n",
            " batch_normalization_135 (Batch  (None, 2, 2, 512)   2048        ['conv2d_135[0][0]']             \n",
            " Normalization)                                                                                   \n",
            "                                                                                                  \n",
            " activation_127 (Activation)    (None, 2, 2, 512)    0           ['batch_normalization_135[0][0]']\n",
            "                                                                                                  \n",
            " conv2d_136 (Conv2D)            (None, 2, 2, 2048)   1050624     ['activation_127[0][0]']         \n",
            "                                                                                                  \n",
            " batch_normalization_136 (Batch  (None, 2, 2, 2048)  8192        ['conv2d_136[0][0]']             \n",
            " Normalization)                                                                                   \n",
            "                                                                                                  \n",
            " add_41 (Add)                   (None, 2, 2, 2048)   0           ['activation_125[0][0]',         \n",
            "                                                                  'batch_normalization_136[0][0]']\n",
            "                                                                                                  \n",
            " activation_128 (Activation)    (None, 2, 2, 2048)   0           ['add_41[0][0]']                 \n",
            "                                                                                                  \n",
            " average_pooling2d_1 (AveragePo  (None, 1, 1, 2048)  0           ['activation_128[0][0]']         \n",
            " oling2D)                                                                                         \n",
            "                                                                                                  \n",
            " dropout_3 (Dropout)            (None, 1, 1, 2048)   0           ['average_pooling2d_1[0][0]']    \n",
            "                                                                                                  \n",
            " flatten_1 (Flatten)            (None, 2048)         0           ['dropout_3[0][0]']              \n",
            "                                                                                                  \n",
            " dense_3 (Dense)                (None, 256)          524544      ['flatten_1[0][0]']              \n",
            "                                                                                                  \n",
            " dropout_4 (Dropout)            (None, 256)          0           ['dense_3[0][0]']                \n",
            "                                                                                                  \n",
            " dense_4 (Dense)                (None, 128)          32896       ['dropout_4[0][0]']              \n",
            "                                                                                                  \n",
            " dropout_5 (Dropout)            (None, 128)          0           ['dense_4[0][0]']                \n",
            "                                                                                                  \n",
            " dense_5 (Dense)                (None, 24)           3096        ['dropout_5[0][0]']              \n",
            "                                                                                                  \n",
            "==================================================================================================\n",
            "Total params: 30,159,512\n",
            "Trainable params: 30,094,104\n",
            "Non-trainable params: 65,408\n",
            "__________________________________________________________________________________________________\n",
            "None\n"
          ]
        }
      ]
    },
    {
      "cell_type": "markdown",
      "metadata": {
        "id": "TRK89czSIVUj"
      },
      "source": [
        "### Compile the model"
      ]
    },
    {
      "cell_type": "markdown",
      "metadata": {
        "id": "TNjo1kX7IbjO"
      },
      "source": [
        "#### Optimizer"
      ]
    },
    {
      "cell_type": "code",
      "metadata": {
        "id": "XAk6IB_eIq0H"
      },
      "source": [
        "### Adam\n",
        "adam=tf.keras.optimizers.Adam(\n",
        "    learning_rate=0.001, beta_1=0.9, beta_2=0.999, epsilon=1e-07)\n",
        "\n",
        "## RMSprop\n",
        "rms=tf.keras.optimizers.RMSprop(\n",
        "    learning_rate=0.001,\n",
        "    rho=0.9,\n",
        "    momentum=0.0,\n",
        "    epsilon=1e-07)\n",
        "## SGD\n",
        "SGD=tf.keras.optimizers.SGD(\n",
        "    learning_rate=0.01, momentum=0.0, nesterov=False, name=\"SGD\"\n",
        ")"
      ],
      "execution_count": 37,
      "outputs": []
    },
    {
      "cell_type": "markdown",
      "metadata": {
        "id": "hzzYIzBmIeZD"
      },
      "source": [
        "#### Loss"
      ]
    },
    {
      "cell_type": "code",
      "metadata": {
        "id": "YtD2409SImJ3"
      },
      "source": [
        "\n",
        "### SparseCategoricalCrossentropy Loss\n",
        "loss_1=keras.losses.SparseCategoricalCrossentropy(from_logits=False)\n"
      ],
      "execution_count": 38,
      "outputs": []
    },
    {
      "cell_type": "markdown",
      "metadata": {
        "id": "kZmpyyD8Ig9_"
      },
      "source": [
        "#### Model Compile"
      ]
    },
    {
      "cell_type": "code",
      "metadata": {
        "id": "V6df0eAHIVBe"
      },
      "source": [
        "model.compile(\n",
        "    loss=loss_1,\n",
        "    optimizer=adam,\n",
        "    metrics=[\"accuracy\"],\n",
        ")"
      ],
      "execution_count": 39,
      "outputs": []
    },
    {
      "cell_type": "markdown",
      "metadata": {
        "id": "5NLPvn5bJK2G"
      },
      "source": [
        "### Fit the model"
      ]
    },
    {
      "cell_type": "code",
      "metadata": {
        "id": "zQUE3PGgJLAm"
      },
      "source": [
        "%time\n",
        "#Training the CNN model\n",
        "history = model.fit(X_train,\n",
        "                    y_train,\n",
        "                    batch_size = 256,\n",
        "                    epochs = 70,\n",
        "                    verbose = 1,\n",
        "                    validation_data = (X_validate, y_validate),\n",
        "                )"
      ],
      "execution_count": null,
      "outputs": []
    },
    {
      "cell_type": "markdown",
      "metadata": {
        "id": "6CuX5vWhJfrt"
      },
      "source": [
        "### Visualizing the Training Performance"
      ]
    },
    {
      "cell_type": "code",
      "metadata": {
        "id": "0pbWLef6Jf2j"
      },
      "source": [
        "plt.figure(figsize=(12, 8))\n",
        "\n",
        "plt.subplot(2, 2, 1)\n",
        "plt.plot(history.history['loss'], label='Train Loss')\n",
        "plt.plot(history.history['val_loss'], label='val_Loss')\n",
        "plt.legend()\n",
        "plt.grid()\n",
        "plt.title('Loss evolution')\n",
        "\n",
        "plt.subplot(2, 2, 2)\n",
        "plt.plot(history.history['accuracy'], label='Train accuracy')\n",
        "plt.plot(history.history['val_accuracy'], label='val_accuracy')\n",
        "plt.legend()\n",
        "plt.grid()\n",
        "plt.title('Accuracy evolution')\n",
        "plt.savefig(\"Train Accuracy\")"
      ],
      "execution_count": null,
      "outputs": []
    },
    {
      "cell_type": "markdown",
      "metadata": {
        "id": "KgRvv7B0JqHv"
      },
      "source": [
        "#### Train and Test Accuracy"
      ]
    },
    {
      "cell_type": "code",
      "metadata": {
        "id": "DHwTy8-7JqSl"
      },
      "source": [
        "train_loss, train_acc = model.evaluate(X_train, y_train)\n",
        "test_loss, test_acc = model.evaluate(X_test,  y_test, verbose=2)\n",
        "\n",
        "\n",
        "print('Train accuracy:', train_acc)\n",
        "print('Test accuracy:', test_acc)"
      ],
      "execution_count": null,
      "outputs": []
    },
    {
      "cell_type": "markdown",
      "metadata": {
        "id": "b_gOWLdPJ3ZX"
      },
      "source": [
        "#### Prediction for test data and test time augumentation\n",
        "\n",
        "\n",
        "- Test-time augmentation for each image augment it 5 ways, and pass each augmented image through the network.\n",
        "- The prediction for the original image will be the mean of the predictions for the 5 augnmented images "
      ]
    },
    {
      "cell_type": "code",
      "metadata": {
        "id": "zAN2hbTDJ3ia"
      },
      "source": [
        "probability_model = tf.keras.Sequential([model, \n",
        "                                         tf.keras.layers.Softmax()])\n",
        "\n",
        "\n",
        "\n",
        "probability_model = tf.keras.Sequential([model, \n",
        "                                         tf.keras.layers.Softmax()])\n",
        "\n",
        "# this is for test time augumentation only\n",
        "test_temp = X_test\n",
        "preds_list = []\n",
        "X_test1 = RandomBrightness()(test_temp)\n",
        "X_test1 = RandomFlip(\"horizontal\")(X_test1)\n",
        "X_test1 = RandomRotation(0.2)(X_test1)\n",
        "preds1 = list(probability_model.predict(X_test1))\n",
        "preds_list.append(preds1)\n",
        "X_test2 = RandomBrightness()(test_temp)\n",
        "X_test2 = RandomFlip(\"horizontal\")(X_test2)\n",
        "X_test2 = RandomRotation(0.2)(X_test2)\n",
        "preds2 = list(probability_model.predict(X_test2))\n",
        "preds_list.append(preds2)\n",
        "X_test3 = RandomBrightness()(test_temp)\n",
        "X_test3 = RandomFlip(\"horizontal\")(X_test3)\n",
        "X_test3 = RandomRotation(0.2)(X_test3)\n",
        "preds3 = list(probability_model.predict(X_test3))\n",
        "preds_list.append(preds3)\n",
        "X_test4 = RandomBrightness()(test_temp)\n",
        "X_test4 = RandomFlip(\"horizontal\")(X_test4)\n",
        "X_test4 = RandomRotation(0.2)(X_test4)\n",
        "preds4 = probability_model.predict(X_test4)\n",
        "preds_list.append(preds4)\n",
        "X_test5 = RandomBrightness()(test_temp)\n",
        "X_test5 = RandomFlip(\"horizontal\")(X_test5)\n",
        "X_test5 = RandomRotation(0.2)(X_test5)\n",
        "preds5 = probability_model.predict(X_test5)\n",
        "preds_list.append(preds5)\n",
        "predicted_classes = np.mean(preds_list, axis=0)\n",
        "pred_class = list(np.argmax(predicted_classes, axis=-1))\n"
      ],
      "execution_count": null,
      "outputs": []
    },
    {
      "cell_type": "markdown",
      "source": [
        "#### Visualize the actual and predcited signs"
      ],
      "metadata": {
        "id": "Zj-Bd2lZC6Cu"
      }
    },
    {
      "cell_type": "code",
      "metadata": {
        "id": "1hEYxw-ZMy5G"
      },
      "source": [
        "#Visualize predictions\n",
        "import matplotlib.pyplot as plt\n",
        "\n",
        "np.set_printoptions(precision=2)\n",
        "L = 5\n",
        "W = 5\n",
        "fig, axes = plt.subplots(L, W, figsize = (12,12))\n",
        "axes = axes.ravel()\n",
        "for i in np.arange(0, L * W):  \n",
        "    axes[i].imshow(X_test[i].reshape(28,28), cmap='gray')\n",
        "    axes[i].set_title(f\"Prediction Class = {pred_class[i]}\\n True Class = {y_test[i]}\")\n",
        "    axes[i].axis('off')\n",
        "plt.subplots_adjust(wspace=0.5)"
      ],
      "execution_count": 39,
      "outputs": []
    },
    {
      "cell_type": "markdown",
      "metadata": {
        "id": "qRebimQhM5DX"
      },
      "source": [
        "### Error Calculation for Test Data"
      ]
    },
    {
      "cell_type": "code",
      "metadata": {
        "id": "TFhT-ArVM4u7"
      },
      "source": [
        "total_test_cases = len(y_test)\n",
        "total_correctly_classified = 0\n",
        "total_misclassified = 0\n",
        "for i in range(y_test.shape[0]):\n",
        "    if y_test[i] == pred_class[i]:\n",
        "        total_correctly_classified += 1\n",
        "    else:\n",
        "        total_misclassified += 1\n",
        "test_accuracy = (total_correctly_classified / total_test_cases) * 100\n",
        "test_error_rate = (total_misclassified / total_test_cases) * 100\n",
        "\n",
        "print('Test accuracy (%):', test_accuracy)\n",
        "print('Test error rate (%):', test_error_rate)\n",
        "print('Number of misclassified classes:', total_misclassified)\n",
        "print('Number of correctly classified classes', total_correctly_classified)"
      ],
      "execution_count": null,
      "outputs": []
    },
    {
      "cell_type": "markdown",
      "metadata": {
        "id": "5PNxsQQzP40c"
      },
      "source": [
        "### Precision and Recall"
      ]
    },
    {
      "cell_type": "code",
      "metadata": {
        "id": "nZdpSnVqP49t"
      },
      "source": [
        "from sklearn.metrics import confusion_matrix\n",
        "from sklearn import metrics\n",
        "from sklearn.metrics import plot_confusion_matrix\n",
        "\n",
        "cm = metrics.confusion_matrix(y_test, pred_class)\n",
        "print(metrics.classification_report(y_test, pred_class))"
      ],
      "execution_count": null,
      "outputs": []
    },
    {
      "cell_type": "markdown",
      "metadata": {
        "id": "f-WGhr9gP92t"
      },
      "source": [
        "### Confusion Matrice"
      ]
    },
    {
      "cell_type": "code",
      "metadata": {
        "id": "cGNgpYFdQb-t"
      },
      "source": [
        "# code adapted from https://scikit-learn.org/0.18/auto_examples/model_selection/plot_confusion_matrix.html\n",
        "from itertools import product\n",
        "def plot_confusion_matrix(cm, classes,\n",
        "                          normalize=False,\n",
        "                          title='Confusion matrix',\n",
        "                          cmap=plt.cm.Blues):\n",
        "    \"\"\"\n",
        "    This function prints and plots the confusion matrix.\n",
        "    Normalization can be applied by setting `normalize=True`.\n",
        "    \"\"\"\n",
        "    if normalize:\n",
        "        cm = cm.astype('float') / cm.sum(axis=1)[:, np.newaxis]\n",
        "        #print(\"Normalized confusion matrix\")\n",
        "\n",
        "    #print(cm)\n",
        "\n",
        "    plt.imshow(cm, interpolation='nearest', cmap=cmap)\n",
        "    plt.title(title)\n",
        "    plt.colorbar()\n",
        "    tick_marks = np.arange(len(classes))\n",
        "    plt.xticks(tick_marks, classes, rotation=45)\n",
        "    plt.yticks(tick_marks, classes)\n",
        "\n",
        "    fmt = '.2f' if normalize else 'd'\n",
        "    thresh = cm.max() / 2.\n",
        "    for i, j in product(range(cm.shape[0]), range(cm.shape[1])):\n",
        "        plt.text(j, i, format(cm[i, j], fmt),\n",
        "                 horizontalalignment=\"center\",\n",
        "                 color=\"white\" if cm[i, j] > thresh else \"black\")\n",
        "\n",
        "    plt.tight_layout()\n",
        "    plt.ylabel('True label')\n",
        "    plt.xlabel('Predicted label')"
      ],
      "execution_count": null,
      "outputs": []
    },
    {
      "cell_type": "code",
      "metadata": {
        "id": "IntOBZMiQf4V"
      },
      "source": [
        "# compute confusion matrix\n",
        "cnf_matrix = confusion_matrix(y_test,pred_class)\n",
        "np.set_printoptions(precision=2)\n",
        "\n",
        "# Plot non-normalized confusion matrix\n",
        "plt.figure(figsize=(24, 7))\n",
        "plot_confusion_matrix(cnf_matrix, classes=class_names,title='Confusion matrix')\n",
        "plt.show()"
      ],
      "execution_count": null,
      "outputs": []
    },
    {
      "cell_type": "markdown",
      "source": [
        "### Transfer Learning"
      ],
      "metadata": {
        "id": "CqjZvBUMwP1t"
      }
    },
    {
      "cell_type": "code",
      "source": [
        "X_train= tf.image.resize(X_test, [224,224], preserve_aspect_ratio = True)\n",
        "X_train = tf.image.grayscale_to_rgb(X_train)\n",
        "X_test = tf.image.resize(X_test, [224,224], preserve_aspect_ratio = True)\n",
        "X_test = tf.image.grayscale_to_rgb(X_test)\n",
        "X_validate = tf.image.resize(X_validate, [224,224], preserve_aspect_ratio = True)\n",
        "X_validate = tf.image.grayscale_to_rgb(X_validate)"
      ],
      "metadata": {
        "id": "-Oh0bv7qwv2o"
      },
      "execution_count": 70,
      "outputs": []
    },
    {
      "cell_type": "markdown",
      "source": [
        "- Here I tried different pretrained models.\n",
        "\n",
        "- I tested ImageNet/MNIST"
      ],
      "metadata": {
        "id": "g3--0VLuw5Nv"
      }
    },
    {
      "cell_type": "code",
      "source": [
        "# VGG19\n",
        "base_model = tf.keras.applications.vgg19.VGG19(input_shape=(224, 224, 3),\n",
        "                                               include_top=False,weights='imagenet')\n",
        "# freeze the layers onn the base network\n",
        "base_model.trainable = False\n",
        "\n",
        "# model = InceptionV3(weights='imagenet', include_top=False, input_shape=(229, 229, 3),pooling='avg')\n",
        "# base_model.trainable = False\n",
        "\n",
        "\n",
        "# base_model= EfficientNetB7(weights='imagenet', include_top=False, input_shape=(600, 600, 3),pooling='avg')    # re-structure the model\n",
        "# base_model.trainable = False\n",
        "\n",
        "\n",
        "# #ResNet152\n",
        "# base_model = ResNet152V2(weights='imagenet', include_top=False, input_shape=(224, 224, 3),pooling='avg')\n",
        "# base_model.trainable = False\n",
        "\n",
        "\n",
        "# base_model = tf.keras.applications.MobileNet(input_shape=(224, 224, 3),\n",
        "#                                               include_top=False,\n",
        "#                                               weights='imagenet',pooling='avg')\n",
        "\n",
        "# for layer in base_model.layers:\n",
        "#     layer.trainable=False"
      ],
      "metadata": {
        "id": "ButvBoHjw5XJ"
      },
      "execution_count": 70,
      "outputs": []
    },
    {
      "cell_type": "code",
      "source": [
        "inputs = tf.keras.Input(shape=(224,224, 3))\n",
        "X = preprocess_input(inputs)\n",
        "X = base_model(X, training=False)\n",
        "X = Flatten()(X)\n",
        "X= Dense(256, activation='relu',kernel_initializer = \"HeNormal\")(X)\n",
        "X=Dropout(0.25)(X)\n",
        "X= Dense(128, activation='relu',kernel_initializer = \"HeNormal\")(X)\n",
        "X= Dropout(0.3)(X)\n",
        "X = Dense(24, activation='softmax', kernel_initializer = \"HeNormal\")(X)\n",
        "\n",
        "\n",
        "model = tf.keras.Model(inputs, outputs = X)"
      ],
      "metadata": {
        "id": "uukaK_9bxjL4"
      },
      "execution_count": 68,
      "outputs": []
    },
    {
      "cell_type": "code",
      "source": [
        "model.summary()"
      ],
      "metadata": {
        "colab": {
          "base_uri": "https://localhost:8080/"
        },
        "id": "3MzQGkQ6xsGq",
        "outputId": "d39ddc15-4bd9-4981-9f16-57a40b5a70c7"
      },
      "execution_count": 69,
      "outputs": [
        {
          "output_type": "stream",
          "name": "stdout",
          "text": [
            "Model: \"model_5\"\n",
            "_________________________________________________________________\n",
            " Layer (type)                Output Shape              Param #   \n",
            "=================================================================\n",
            " input_10 (InputLayer)       [(None, 224, 224, 3)]     0         \n",
            "                                                                 \n",
            " tf.math.truediv_3 (TFOpLamb  (None, 224, 224, 3)      0         \n",
            " da)                                                             \n",
            "                                                                 \n",
            " tf.math.subtract_3 (TFOpLam  (None, 224, 224, 3)      0         \n",
            " bda)                                                            \n",
            "                                                                 \n",
            " vgg19 (Functional)          (None, 7, 7, 512)         20024384  \n",
            "                                                                 \n",
            " flatten_5 (Flatten)         (None, 25088)             0         \n",
            "                                                                 \n",
            " dense_15 (Dense)            (None, 256)               6422784   \n",
            "                                                                 \n",
            " dropout_12 (Dropout)        (None, 256)               0         \n",
            "                                                                 \n",
            " dense_16 (Dense)            (None, 128)               32896     \n",
            "                                                                 \n",
            " dropout_13 (Dropout)        (None, 128)               0         \n",
            "                                                                 \n",
            " dense_17 (Dense)            (None, 24)                3096      \n",
            "                                                                 \n",
            "=================================================================\n",
            "Total params: 26,483,160\n",
            "Trainable params: 6,458,776\n",
            "Non-trainable params: 20,024,384\n",
            "_________________________________________________________________\n"
          ]
        }
      ]
    },
    {
      "cell_type": "code",
      "source": [
        "# learning rate is set to 0.001 in adam\n",
        "### SparseCategoricalCrossentropy Loss\n",
        "loss_1=keras.losses.SparseCategoricalCrossentropy(from_logits=False)\n",
        "model.compile(\n",
        "    loss=loss_1,\n",
        "    optimizer=adam,\n",
        "    metrics=[\"accuracy\"],\n",
        ")"
      ],
      "metadata": {
        "id": "Jh8-rGGBxw6O"
      },
      "execution_count": null,
      "outputs": []
    },
    {
      "cell_type": "code",
      "source": [
        "history2 = model.fit(X_train,\n",
        "                    y_train,\n",
        "                    batch_size = 256,\n",
        "                    epochs = 30,\n",
        "                    verbose = 1,\n",
        "                    validation_data = (X_validate, y_validate))"
      ],
      "metadata": {
        "id": "yLGN-75rxztP"
      },
      "execution_count": null,
      "outputs": []
    },
    {
      "cell_type": "code",
      "source": [
        "plt.figure(figsize=(12, 8))\n",
        "\n",
        "plt.subplot(2, 2, 1)\n",
        "plt.plot(history.history['loss'], label='Train Loss')\n",
        "plt.plot(history.history['val_loss'], label='val_Loss')\n",
        "plt.legend()\n",
        "plt.grid()\n",
        "plt.title('Loss evolution')\n",
        "\n",
        "plt.subplot(2, 2, 2)\n",
        "plt.plot(history.history['accuracy'], label='Train accuracy')\n",
        "plt.plot(history.history['val_accuracy'], label='val_accuracy')\n",
        "plt.legend()\n",
        "plt.grid()\n",
        "plt.title('Accuracy evolution')\n",
        "plt.savefig(\"Train Accuracy\")"
      ],
      "metadata": {
        "id": "n1MxtItuyI5S"
      },
      "execution_count": null,
      "outputs": []
    },
    {
      "cell_type": "code",
      "source": [
        "train_loss, train_acc = model.evaluate(X_train, y_train)\n",
        "test_loss, test_acc = model.evaluate(X_test,  y_test, verbose=2)\n",
        "\n",
        "\n",
        "print('Train accuracy:', train_acc)\n",
        "print('Test accuracy:', test_acc)"
      ],
      "metadata": {
        "id": "Jeeg2iRLyLr_"
      },
      "execution_count": null,
      "outputs": []
    }
  ]
}